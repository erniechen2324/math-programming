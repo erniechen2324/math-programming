{
 "cells": [
  {
   "cell_type": "markdown",
   "metadata": {},
   "source": [
    "# Python發牌機"
   ]
  },
  {
   "cell_type": "code",
   "execution_count": 4,
   "metadata": {},
   "outputs": [],
   "source": [
    "import numpy as np\n",
    "import pandas as pd\n",
    "import matplotlib.pyplot as plt"
   ]
  },
  {
   "cell_type": "code",
   "execution_count": 5,
   "metadata": {},
   "outputs": [
    {
     "name": "stdout",
     "output_type": "stream",
     "text": [
      "1P： [['♠', '10'], ['♠', '3'], ['♠', '5'], ['♠', '9'], ['♠', 'J'], ['♣', '7'], ['♣', '9'], ['♥', '7'], ['♥', '8'], ['♥', '9'], ['♦', '2'], ['♦', '3'], ['♦', 'J']]\n",
      "2P： [['♠', '4'], ['♠', 'K'], ['♠', 'Q'], ['♣', 'A'], ['♥', '10'], ['♥', '5'], ['♥', '6'], ['♦', '5'], ['♦', '6'], ['♦', '8'], ['♦', '9'], ['♦', 'A'], ['♦', 'Q']]\n",
      "3P： [['♠', '2'], ['♠', '6'], ['♠', '8'], ['♣', '10'], ['♣', 'J'], ['♣', 'Q'], ['♥', '2'], ['♥', '3'], ['♥', '4'], ['♥', 'A'], ['♥', 'K'], ['♦', '4'], ['♦', 'K']]\n",
      "4P： [['♠', '7'], ['♠', 'A'], ['♣', '2'], ['♣', '3'], ['♣', '4'], ['♣', '5'], ['♣', '6'], ['♣', '8'], ['♣', 'K'], ['♥', 'J'], ['♥', 'Q'], ['♦', '10'], ['♦', '7']]\n"
     ]
    }
   ],
   "source": [
    "import random\n",
    "import operator\n",
    "def auto():\n",
    "    pokers = []\n",
    "    poker = []\n",
    "    for i in ['♥','♠','♦','♣']:\n",
    "        for j in ['A','2','3','4','5','6','7','8','9','10','J','Q','K']:\n",
    "            poker.append(i)\n",
    "            poker.append(j)\n",
    "            pokers.append(poker)\n",
    "            poker = []\n",
    "    return pokers\n",
    "poker = auto()\n",
    "random.shuffle(poker)\n",
    "li = {}\n",
    "for k in ['1P','2P','3P','4P']:\n",
    "    b=random.sample(poker,13)    \n",
    "    for s in b:\n",
    "        poker.remove(s)\n",
    "    li.setdefault(k,b)        \n",
    "print('1P：',sorted(li['1P'],key = operator.itemgetter(0,1)))\n",
    "print('2P：',sorted(li['2P'],key = operator.itemgetter(0,1)))   \n",
    "print('3P：',sorted(li['3P'],key = operator.itemgetter(0,1)))\n",
    "print('4P：',sorted(li['4P'],key = operator.itemgetter(0,1)))"
   ]
  },
  {
   "cell_type": "code",
   "execution_count": null,
   "metadata": {},
   "outputs": [],
   "source": []
  }
 ],
 "metadata": {
  "kernelspec": {
   "display_name": "Python 3",
   "language": "python",
   "name": "python3"
  },
  "language_info": {
   "codemirror_mode": {
    "name": "ipython",
    "version": 3
   },
   "file_extension": ".py",
   "mimetype": "text/x-python",
   "name": "python",
   "nbconvert_exporter": "python",
   "pygments_lexer": "ipython3",
   "version": "3.7.1"
  }
 },
 "nbformat": 4,
 "nbformat_minor": 2
}
