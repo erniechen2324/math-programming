{
 "cells": [
  {
   "cell_type": "code",
   "execution_count": 1,
   "metadata": {},
   "outputs": [],
   "source": [
    "import numpy as np\n",
    "import pandas as pd\n",
    "import matplotlib.pyplot as plt"
   ]
  },
  {
   "cell_type": "markdown",
   "metadata": {},
   "source": [
    "# 選擇權之隱含波動度"
   ]
  },
  {
   "cell_type": "code",
   "execution_count": 5,
   "metadata": {},
   "outputs": [],
   "source": [
    "def BSValuation(opt, S, K, r, q, T, sigma):\n",
    "    import numpy as np\n",
    "    from scipy import stats\n",
    "    \n",
    "    act = np.exp(-r * T)\n",
    "    actd = np.exp(-q * T)\n",
    "    S=float(S)\n",
    "    \n",
    "    if S > 0 and K > 0 and T > 0 and sigma > 0:\n",
    "        Done = (np.log(S / K) + (r - q + 0.5 * sigma ** 2) * T) / (sigma * np.sqrt(T))\n",
    "        Dtwo = (np.log(S / K) + (r - q - 0.5 * sigma ** 2) * T) / (sigma * np.sqrt(T))\n",
    "        \n",
    "        Ndone = stats.norm.cdf(opt * Done, 0.0, 1.0)\n",
    "        Ndtwo = stats.norm.cdf(opt * Dtwo, 0.0, 1.0)\n",
    "        \n",
    "        return opt * (S * actd * Ndone - K * act * Ndtwo)\n",
    "\n",
    "    elif S > 0 and K > 0 and sigma > 0 and T == 0:\n",
    "        return np.maximum(0, opt * (S - K))\n",
    "    \n",
    "    else:\n",
    "        print(\"Warning : Share price(S) and Exercice price(X) and time to maturity(tyr) and volatility(sigma) must be positive\")"
   ]
  },
  {
   "cell_type": "code",
   "execution_count": 2,
   "metadata": {},
   "outputs": [],
   "source": [
    "def ImpliedVol(opt, price, S, K, r, q, T):\n",
    "    sigma = 0.01\n",
    "    for i in range(300):\n",
    "        priceEsti = BSValuation(opt, S, K, r, q, T, sigma)\n",
    "        if priceEsti >= price:\n",
    "            print(\"Implied Volatility is : \" + \"%4.2f\"%(sigma*100), \"%\")\n",
    "            break\n",
    "        sigma = sigma + 0.01\n",
    "\n",
    "    if i > 300:\n",
    "        print(\"Volatility over 300%\")"
   ]
  },
  {
   "cell_type": "code",
   "execution_count": 6,
   "metadata": {},
   "outputs": [
    {
     "name": "stdout",
     "output_type": "stream",
     "text": [
      "Implied Volatility is : 21.00 %\n"
     ]
    }
   ],
   "source": [
    "#I suppose option price equals to 9.77936\n",
    "price=9.77936 \n",
    "vol_1 = ImpliedVol(1,price,100,95,0.08,0.03,0.5)\n",
    "vol_1"
   ]
  },
  {
   "cell_type": "code",
   "execution_count": null,
   "metadata": {},
   "outputs": [],
   "source": []
  }
 ],
 "metadata": {
  "kernelspec": {
   "display_name": "Python 3",
   "language": "python",
   "name": "python3"
  },
  "language_info": {
   "codemirror_mode": {
    "name": "ipython",
    "version": 3
   },
   "file_extension": ".py",
   "mimetype": "text/x-python",
   "name": "python",
   "nbconvert_exporter": "python",
   "pygments_lexer": "ipython3",
   "version": "3.7.1"
  }
 },
 "nbformat": 4,
 "nbformat_minor": 2
}
