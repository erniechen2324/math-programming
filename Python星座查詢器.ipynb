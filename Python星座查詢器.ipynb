{
 "cells": [
  {
   "cell_type": "code",
   "execution_count": 2,
   "metadata": {},
   "outputs": [],
   "source": [
    "import numpy as np\n",
    "import pandas as pd\n",
    "import matplotlib.pyplot as plt"
   ]
  },
  {
   "cell_type": "code",
   "execution_count": 3,
   "metadata": {},
   "outputs": [
    {
     "name": "stdout",
     "output_type": "stream",
     "text": [
      "請輸入月份11\n",
      "請輸入日期1\n",
      "天蝎座\n"
     ]
    }
   ],
   "source": [
    "month1 = int(input(\"請輸入月份\"))\n",
    "day1 = int(input(\"請輸入日期\"))\n",
    "\n",
    "def get_constellation(month, date):\n",
    "    dates = (21, 20, 21, 21, 22, 22, 23, 24, 24, 24, 23, 22)\n",
    "    constellations = (\"摩羯座\", \"水瓶座\", \"雙魚座\", \"牡羊座\", \"金牛座\", \"雙子座\", \"巨蟹座\", \"獅子座\", \"處女座\", \"天秤座\", \"天蝎座\", \"射手座\", \"魔羯座\")\n",
    "    if date < dates[month-1]:\n",
    "        return constellations[month-1]\n",
    "    else:\n",
    "        return constellations[month]\n",
    "\n",
    "print ((get_constellation(month1,day1)))"
   ]
  },
  {
   "cell_type": "code",
   "execution_count": null,
   "metadata": {},
   "outputs": [],
   "source": []
  }
 ],
 "metadata": {
  "kernelspec": {
   "display_name": "Python 3",
   "language": "python",
   "name": "python3"
  },
  "language_info": {
   "codemirror_mode": {
    "name": "ipython",
    "version": 3
   },
   "file_extension": ".py",
   "mimetype": "text/x-python",
   "name": "python",
   "nbconvert_exporter": "python",
   "pygments_lexer": "ipython3",
   "version": "3.7.1"
  }
 },
 "nbformat": 4,
 "nbformat_minor": 2
}
