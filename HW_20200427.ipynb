{
  "nbformat": 4,
  "nbformat_minor": 0,
  "metadata": {
    "colab": {
      "name": "HW-20200427.ipynb",
      "provenance": []
    },
    "kernelspec": {
      "name": "python3",
      "display_name": "Python 3"
    },
    "accelerator": "GPU"
  },
  "cells": [
    {
      "cell_type": "markdown",
      "metadata": {
        "id": "-3lseydtAzrI",
        "colab_type": "text"
      },
      "source": [
        "# 調整部分"
      ]
    },
    {
      "cell_type": "markdown",
      "metadata": {
        "id": "eWdSrLhDA7gS",
        "colab_type": "text"
      },
      "source": [
        "1. 調降num_word數量(10000→8000)\n",
        "2. 調高共同資料長度(100→120)\n",
        "3. 調降LSTM數量(128→64)\n",
        "4. drop = 0.1\n",
        "4. 批次訓練改成5次"
      ]
    },
    {
      "cell_type": "code",
      "metadata": {
        "id": "bqrqA0zN_5Ev",
        "colab_type": "code",
        "colab": {}
      },
      "source": [
        "%matplotlib inline\n",
        "import numpy as np\n",
        "import matplotlib.pyplot as plt\n",
        "import pandas as pd"
      ],
      "execution_count": 0,
      "outputs": []
    },
    {
      "cell_type": "code",
      "metadata": {
        "id": "q6Y-OCOsAA6R",
        "colab_type": "code",
        "colab": {}
      },
      "source": [
        "from tensorflow.keras.preprocessing import sequence\n",
        "from tensorflow.keras.models import Sequential\n",
        "from tensorflow.keras.layers import Dense, Embedding\n",
        "from tensorflow.keras.layers import LSTM\n",
        "from tensorflow.keras.datasets import imdb"
      ],
      "execution_count": 0,
      "outputs": []
    },
    {
      "cell_type": "code",
      "metadata": {
        "id": "wsNbpz4LAFqP",
        "colab_type": "code",
        "colab": {}
      },
      "source": [
        "(x_train, y_train), (x_test, y_test) = imdb.load_data(num_words = 8000)"
      ],
      "execution_count": 0,
      "outputs": []
    },
    {
      "cell_type": "code",
      "metadata": {
        "id": "dVDk1aL6AIJ5",
        "colab_type": "code",
        "colab": {}
      },
      "source": [
        "x_train = sequence.pad_sequences(x_train, maxlen = 120)\n",
        "x_test = sequence.pad_sequences(x_test, maxlen = 120)"
      ],
      "execution_count": 0,
      "outputs": []
    },
    {
      "cell_type": "markdown",
      "metadata": {
        "id": "1Ee06TzlESQQ",
        "colab_type": "text"
      },
      "source": [
        "Step 1. 打造函數學習機"
      ]
    },
    {
      "cell_type": "code",
      "metadata": {
        "id": "uTzrvmApAN2S",
        "colab_type": "code",
        "colab": {
          "base_uri": "https://localhost:8080/",
          "height": 292
        },
        "outputId": "db94ed96-7212-4391-d266-de1d49d5157f"
      },
      "source": [
        "model=Sequential()\n",
        "model.add(Embedding(8000,128))\n",
        "model.add(LSTM(64, dropout = 0.1, recurrent_dropout  =0.1))\n",
        "model.add(Dense(1, activation='sigmoid'))\n",
        "model.compile(loss='binary_crossentropy', optimizer='adam', metrics=['accuracy'])\n",
        "model.summary()"
      ],
      "execution_count": 13,
      "outputs": [
        {
          "output_type": "stream",
          "text": [
            "WARNING:tensorflow:Layer lstm_1 will not use cuDNN kernel since it doesn't meet the cuDNN kernel criteria. It will use generic GPU kernel as fallback when running on GPU\n",
            "Model: \"sequential_1\"\n",
            "_________________________________________________________________\n",
            "Layer (type)                 Output Shape              Param #   \n",
            "=================================================================\n",
            "embedding_1 (Embedding)      (None, None, 128)         1024000   \n",
            "_________________________________________________________________\n",
            "lstm_1 (LSTM)                (None, 64)                49408     \n",
            "_________________________________________________________________\n",
            "dense_1 (Dense)              (None, 1)                 65        \n",
            "=================================================================\n",
            "Total params: 1,073,473\n",
            "Trainable params: 1,073,473\n",
            "Non-trainable params: 0\n",
            "_________________________________________________________________\n"
          ],
          "name": "stdout"
        }
      ]
    },
    {
      "cell_type": "markdown",
      "metadata": {
        "id": "2MEoIE_dEdXd",
        "colab_type": "text"
      },
      "source": [
        "Step 2. 組裝神經網路"
      ]
    },
    {
      "cell_type": "code",
      "metadata": {
        "id": "6KIxvM_qEax2",
        "colab_type": "code",
        "colab": {
          "base_uri": "https://localhost:8080/",
          "height": 255
        },
        "outputId": "12f583aa-7b18-43c1-bed5-d39640613853"
      },
      "source": [
        "model.compile(loss='binary_crossentropy', optimizer='adam', metrics=['accuracy'])\n",
        "model.summary()"
      ],
      "execution_count": 14,
      "outputs": [
        {
          "output_type": "stream",
          "text": [
            "Model: \"sequential_1\"\n",
            "_________________________________________________________________\n",
            "Layer (type)                 Output Shape              Param #   \n",
            "=================================================================\n",
            "embedding_1 (Embedding)      (None, None, 128)         1024000   \n",
            "_________________________________________________________________\n",
            "lstm_1 (LSTM)                (None, 64)                49408     \n",
            "_________________________________________________________________\n",
            "dense_1 (Dense)              (None, 1)                 65        \n",
            "=================================================================\n",
            "Total params: 1,073,473\n",
            "Trainable params: 1,073,473\n",
            "Non-trainable params: 0\n",
            "_________________________________________________________________\n"
          ],
          "name": "stdout"
        }
      ]
    },
    {
      "cell_type": "markdown",
      "metadata": {
        "id": "nF3NEydZFF69",
        "colab_type": "text"
      },
      "source": [
        "Step 3. 訓練模型"
      ]
    },
    {
      "cell_type": "code",
      "metadata": {
        "id": "SCCfk0jmAZHP",
        "colab_type": "code",
        "colab": {
          "base_uri": "https://localhost:8080/",
          "height": 204
        },
        "outputId": "7f972169-4a2f-441f-bd24-445756a92cc2"
      },
      "source": [
        "model.fit(x_train, y_train, batch_size = 32, epochs=5,\n",
        "         validation_data=(x_test, y_test))"
      ],
      "execution_count": 7,
      "outputs": [
        {
          "output_type": "stream",
          "text": [
            "Epoch 1/5\n",
            "782/782 [==============================] - 620s 793ms/step - loss: 0.4092 - accuracy: 0.8080 - val_loss: 0.3425 - val_accuracy: 0.8510\n",
            "Epoch 2/5\n",
            "782/782 [==============================] - 612s 782ms/step - loss: 0.2575 - accuracy: 0.8963 - val_loss: 0.3373 - val_accuracy: 0.8572\n",
            "Epoch 3/5\n",
            "782/782 [==============================] - 592s 757ms/step - loss: 0.1940 - accuracy: 0.9260 - val_loss: 0.3954 - val_accuracy: 0.8479\n",
            "Epoch 4/5\n",
            "782/782 [==============================] - 592s 757ms/step - loss: 0.1435 - accuracy: 0.9461 - val_loss: 0.4033 - val_accuracy: 0.8455\n",
            "Epoch 5/5\n",
            "782/782 [==============================] - 611s 781ms/step - loss: 0.1138 - accuracy: 0.9590 - val_loss: 0.4557 - val_accuracy: 0.8420\n"
          ],
          "name": "stdout"
        },
        {
          "output_type": "execute_result",
          "data": {
            "text/plain": [
              "<tensorflow.python.keras.callbacks.History at 0x7f77b231d8d0>"
            ]
          },
          "metadata": {
            "tags": []
          },
          "execution_count": 7
        }
      ]
    },
    {
      "cell_type": "code",
      "metadata": {
        "id": "daZMSLSZAk4v",
        "colab_type": "code",
        "colab": {}
      },
      "source": [
        ""
      ],
      "execution_count": 0,
      "outputs": []
    }
  ]
}