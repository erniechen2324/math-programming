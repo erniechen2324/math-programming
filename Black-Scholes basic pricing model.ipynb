{
 "cells": [
  {
   "cell_type": "markdown",
   "metadata": {},
   "source": [
    "# B-S model"
   ]
  },
  {
   "cell_type": "code",
   "execution_count": 1,
   "metadata": {},
   "outputs": [
    {
     "name": "stdout",
     "output_type": "stream",
     "text": [
      "please input the stock price: 30\n",
      "please input the exercise price: 10\n",
      "please input the risk-free interest rate: 0.01\n",
      "please input the maturity: 1\n",
      "please input the volatility: 0.05\n"
     ]
    }
   ],
   "source": [
    "import numpy as np\n",
    "from scipy import stats\n",
    "\n",
    "s = float(input('please input the stock price: '))\n",
    "k = float(input('please input the exercise price: '))\n",
    "r = float(input('please input the risk-free interest rate: '))\n",
    "t = float(input('please input the maturity: '))\n",
    "sigma = float(input('please input the volatility: '))\n",
    "\n",
    "d1 = (np.log(s/k) + (r + 0.5 * sigma**2)*t)/(sigma * np.sqrt(t))\n",
    "d2 = d1 - sigma * np.sqrt(t)\n",
    "\n",
    "Call = s * stats.norm.cdf(d1,0.0,1.0) - k * np.exp(-r*t) * stats.norm.cdf(d2,0.0,1.0)"
   ]
  },
  {
   "cell_type": "code",
   "execution_count": 2,
   "metadata": {},
   "outputs": [
    {
     "data": {
      "text/plain": [
       "20.099501662508317"
      ]
     },
     "execution_count": 2,
     "metadata": {},
     "output_type": "execute_result"
    }
   ],
   "source": [
    "Call"
   ]
  },
  {
   "cell_type": "code",
   "execution_count": null,
   "metadata": {},
   "outputs": [],
   "source": []
  }
 ],
 "metadata": {
  "kernelspec": {
   "display_name": "Python 3",
   "language": "python",
   "name": "python3"
  },
  "language_info": {
   "codemirror_mode": {
    "name": "ipython",
    "version": 3
   },
   "file_extension": ".py",
   "mimetype": "text/x-python",
   "name": "python",
   "nbconvert_exporter": "python",
   "pygments_lexer": "ipython3",
   "version": "3.7.1"
  }
 },
 "nbformat": 4,
 "nbformat_minor": 2
}
