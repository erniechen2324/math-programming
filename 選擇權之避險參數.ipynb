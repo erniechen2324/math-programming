{
 "cells": [
  {
   "cell_type": "code",
   "execution_count": 1,
   "metadata": {},
   "outputs": [],
   "source": [
    "import numpy as np\n",
    "import pandas as pd\n",
    "import matplotlib.pyplot as plt"
   ]
  },
  {
   "cell_type": "markdown",
   "metadata": {},
   "source": [
    "# 選擇權之避險參數"
   ]
  },
  {
   "cell_type": "code",
   "execution_count": 8,
   "metadata": {},
   "outputs": [],
   "source": [
    "def BSOpValuation(opt, S, K, r, q, T, sigma):\n",
    "    import numpy as np\n",
    "    from scipy import stats\n",
    "    \n",
    "    act = np.exp(-r * T)\n",
    "    actd = np.exp(-q * T)\n",
    "    S=float(S)\n",
    "    \n",
    "    if S > 0 and K > 0 and T > 0 and sigma > 0:\n",
    "        Done = (np.log(S / K) + (r - q + 0.5 * sigma ** 2) * T) / (sigma * np.sqrt(T))\n",
    "        Dtwo = (np.log(S / K) + (r - q - 0.5 * sigma ** 2) * T) / (sigma * np.sqrt(T))\n",
    "        \n",
    "        Ndone = stats.norm.cdf(opt * Done, 0.0, 1.0)\n",
    "        Ndtwo = stats.norm.cdf(opt * Dtwo, 0.0, 1.0)\n",
    "        \n",
    "        return opt * (S * actd * Ndone - K * act * Ndtwo)\n",
    "\n",
    "    elif S > 0 and K > 0 and sigma > 0 and T == 0:\n",
    "        return np.maximum(0, opt * (S - K))\n",
    "    \n",
    "    else:\n",
    "        print(\"Warning : Share price(S) and Exercice price(X) and time to maturity(tyr) and volatility(sigma) must be positive\")\n",
    "        \n",
    "def BSDOne(S, K, r, q, T, sigma):\n",
    "    import numpy as np\n",
    "    return (np.log(S / K) + (r - q + 0.5 * sigma ** 2) * T) / (sigma * np.sqrt(T))\n",
    "\n",
    "def BSDTwo(S, K, r, q, T, sigma):\n",
    "    import numpy as np\n",
    "    return (np.log(S / K) + (r - q - 0.5 * sigma ** 2) * T) / (sigma * np.sqrt(T))\n",
    "\n",
    "def BSNdashOne(S, K, r, q, T, sigma):\n",
    "    import numpy as np\n",
    "    return (np.exp(-(BSDOne(S, K, r, q, T, sigma)) ** 2 / 2) / np.sqrt(2 * np.pi))"
   ]
  },
  {
   "cell_type": "code",
   "execution_count": 6,
   "metadata": {},
   "outputs": [],
   "source": [
    "def BSValGreeks(greek, opt, S, K, r, q, T, sigma):\n",
    "    from scipy import stats\n",
    "    import numpy as np\n",
    "    act = np.exp(-q * T)\n",
    "    \n",
    "    c = BSOpValuation(opt, S, K, r, q, T, sigma)\n",
    "    c1 = stats.norm.cdf(opt * BSDOne(S, K, r, q, T, sigma))\n",
    "    c1d = BSNdashOne(S, K, r, q, T, sigma)\n",
    "    c2 = stats.norm.cdf(opt * BSDTwo(S, K, r, q, T, sigma))\n",
    "    d = opt * act * c1\n",
    "    g = c1d * act / (S * sigma * np.sqrt(T))\n",
    "    \n",
    "    if greek == 1: #1 = delta\n",
    "        return d\n",
    "    elif greek == 2: #2 = gamma\n",
    "        return g\n",
    "    elif greek == 3: #3 = rho\n",
    "        return opt * K * T * np.exp(-r * T) * c2\n",
    "    elif greek == 4: #4 = theta\n",
    "        return r * c - (r - q) * S * d - 0.5 * (sigma * S) ** 2 * g\n",
    "    elif greek == 5: #5 = vega\n",
    "        return S * np.sqrt(T) * c1d * act"
   ]
  },
  {
   "cell_type": "code",
   "execution_count": 9,
   "metadata": {},
   "outputs": [
    {
     "data": {
      "text/plain": [
       "0.5216016339715761"
      ]
     },
     "execution_count": 9,
     "metadata": {},
     "output_type": "execute_result"
    }
   ],
   "source": [
    "#for example\n",
    "greek1 = BSValGreeks(1,1,49,50,0.05,0,0.3846,20/100)\n",
    "greek1"
   ]
  },
  {
   "cell_type": "code",
   "execution_count": null,
   "metadata": {},
   "outputs": [],
   "source": []
  }
 ],
 "metadata": {
  "kernelspec": {
   "display_name": "Python 3",
   "language": "python",
   "name": "python3"
  },
  "language_info": {
   "codemirror_mode": {
    "name": "ipython",
    "version": 3
   },
   "file_extension": ".py",
   "mimetype": "text/x-python",
   "name": "python",
   "nbconvert_exporter": "python",
   "pygments_lexer": "ipython3",
   "version": "3.7.1"
  }
 },
 "nbformat": 4,
 "nbformat_minor": 2
}
