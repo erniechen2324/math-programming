{
 "cells": [
  {
   "cell_type": "code",
   "execution_count": 6,
   "metadata": {},
   "outputs": [
    {
     "name": "stdout",
     "output_type": "stream",
     "text": [
      "My American Call option value is : 0.000000\n"
     ]
    }
   ],
   "source": [
    "def BinOptCRR(opt, exer, S, K, r, div, T, sigma, n):\n",
    "    if S > 0.0 and K > 0.0 and T > 0.0 and sigma > 0.0:\n",
    "        delta = T / n\n",
    "        act = np.exp(r * delta)\n",
    "        actd = np.exp((r - div) * delta)\n",
    "        u = np.exp(sigma * np.sqrt(delta))\n",
    "        d = 1 / u\n",
    "        q = (actd - d) / (u - d)\n",
    "        t = 1 - q\n",
    "        \n",
    "        \n",
    "        #bb=np.empty([3,2], dtype=int)\n",
    "        a = np.empty([n+1], dtype=float)\n",
    "        \n",
    "        i = 0\n",
    "        while i < a.size:\n",
    "            a[i] = np.maximum(opt*(S*(u**i) * (d**(n-i)) -K), 0)\n",
    "            i+=1\n",
    "            \n",
    "        '''a=np.arange(6)\n",
    "        for x in np.nditer(a):\n",
    "            print(x, end='')           \n",
    "            \n",
    "        i=0\n",
    "        while i<a.size:\n",
    "            print(a[i])\n",
    "            i+=1'''\n",
    "        \n",
    "        for j in range(n,-1,-1):\n",
    "            i = 0\n",
    "            while i < j:\n",
    "                a[i]= ((q*a[i+1]) + (t * a[i]))/act\n",
    "                #print(\"i:j\", i,\":\",j, a[i])\n",
    "                if exer == 2:\n",
    "                    a[i] = np.maximum(a[i], opt * (S * (u ** i) * (d ** (j - i)) - K))\n",
    "                i+=1\n",
    "                \n",
    "        if opt ==1:\n",
    "            tyo=\"Call\"\n",
    "        else:\n",
    "            tyo=\"Put\"\n",
    "            \n",
    "        if exer ==1:\n",
    "            echop=\"European\"\n",
    "        else:\n",
    "            echop=\"American\"\n",
    "\n",
    "        print(\"My \" + echop + \" \" + tyo, \"option value is : \" + \"%.6f\"%(a[0]))\n",
    "        \n",
    "#BinOptCRR_Euro_Ameri(opt, exer, S, K, r, div, T, sigma, nstep):            \n",
    "#BinOptCRR_Euro_Ameri(1,1,50,50,0.05,0,0.5,0.3,100)=4.806953\n",
    "BinOptCRR(1,2,0.05,0.80,-0.02,0,0.60,0.04,3)    "
   ]
  },
  {
   "cell_type": "code",
   "execution_count": 2,
   "metadata": {},
   "outputs": [],
   "source": [
    "import numpy as np\n",
    "import pandas as pd\n",
    "import matplotlib.pyplot as plt"
   ]
  },
  {
   "cell_type": "code",
   "execution_count": null,
   "metadata": {},
   "outputs": [],
   "source": []
  }
 ],
 "metadata": {
  "kernelspec": {
   "display_name": "Python 3",
   "language": "python",
   "name": "python3"
  },
  "language_info": {
   "codemirror_mode": {
    "name": "ipython",
    "version": 3
   },
   "file_extension": ".py",
   "mimetype": "text/x-python",
   "name": "python",
   "nbconvert_exporter": "python",
   "pygments_lexer": "ipython3",
   "version": "3.7.1"
  }
 },
 "nbformat": 4,
 "nbformat_minor": 2
}
