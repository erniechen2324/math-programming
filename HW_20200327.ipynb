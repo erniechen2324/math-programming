{
  "nbformat": 4,
  "nbformat_minor": 0,
  "metadata": {
    "colab": {
      "name": "HW-20200327.ipynb",
      "provenance": []
    },
    "kernelspec": {
      "name": "python3",
      "display_name": "Python 3"
    },
    "accelerator": "TPU"
  },
  "cells": [
    {
      "cell_type": "code",
      "metadata": {
        "id": "_52Y_B7NuN5h",
        "colab_type": "code",
        "colab": {}
      },
      "source": [
        "import numpy as np\n",
        "import matplotlib.pyplot as plt"
      ],
      "execution_count": 0,
      "outputs": []
    },
    {
      "cell_type": "code",
      "metadata": {
        "id": "cw9pEBrduZws",
        "colab_type": "code",
        "colab": {}
      },
      "source": [
        "import tensorflow as tf"
      ],
      "execution_count": 0,
      "outputs": []
    },
    {
      "cell_type": "code",
      "metadata": {
        "id": "A_dPZajAudDN",
        "colab_type": "code",
        "colab": {}
      },
      "source": [
        "%tensorflow_version 2.x"
      ],
      "execution_count": 0,
      "outputs": []
    },
    {
      "cell_type": "code",
      "metadata": {
        "id": "0dOXtYYRuirt",
        "colab_type": "code",
        "colab": {}
      },
      "source": [
        "from tensorflow.keras.datasets import fashion_mnist"
      ],
      "execution_count": 0,
      "outputs": []
    },
    {
      "cell_type": "code",
      "metadata": {
        "id": "-lDSnO1Uuqxr",
        "colab_type": "code",
        "colab": {}
      },
      "source": [
        "(x_train, y_train), (x_test, y_test) = fashion_mnist.load_data()"
      ],
      "execution_count": 0,
      "outputs": []
    },
    {
      "cell_type": "code",
      "metadata": {
        "id": "FFvBUM48uvlv",
        "colab_type": "code",
        "colab": {}
      },
      "source": [
        "class_names = ['T-shirt/top', 'Trouser', 'Pullover', 'Dress', 'Coat', 'Sandal', 'Shirt', 'Sneaker', 'Bag', 'Ankle boot']"
      ],
      "execution_count": 0,
      "outputs": []
    },
    {
      "cell_type": "markdown",
      "metadata": {
        "id": "LooiH-uNwt3O",
        "colab_type": "text"
      },
      "source": [
        "# 數據集內容"
      ]
    },
    {
      "cell_type": "code",
      "metadata": {
        "id": "cd1RO6NQu9uc",
        "colab_type": "code",
        "colab": {
          "base_uri": "https://localhost:8080/",
          "height": 299
        },
        "outputId": "e98c1b8f-9ba3-43f6-9121-b1f869e6cc3d"
      },
      "source": [
        "n = 5678\n",
        "\n",
        "print('This is a(an)',class_names[y_train[n]])\n",
        "plt.imshow(x_train[n], cmap='Greys')"
      ],
      "execution_count": 10,
      "outputs": [
        {
          "output_type": "stream",
          "text": [
            "This is a(an) Bag\n"
          ],
          "name": "stdout"
        },
        {
          "output_type": "execute_result",
          "data": {
            "text/plain": [
              "<matplotlib.image.AxesImage at 0x7f4d0f768fd0>"
            ]
          },
          "metadata": {
            "tags": []
          },
          "execution_count": 10
        },
        {
          "output_type": "display_data",
          "data": {
            "image/png": "[encoded data removed]",
            "text/plain": [
              "<Figure size 432x288 with 1 Axes>"
            ]
          },
          "metadata": {
            "tags": []
          }
        }
      ]
    },
    {
      "cell_type": "code",
      "metadata": {
        "id": "_GIEicVPvElQ",
        "colab_type": "code",
        "colab": {
          "base_uri": "https://localhost:8080/",
          "height": 299
        },
        "outputId": "857b3536-ae43-4bef-897f-052d54964301"
      },
      "source": [
        "from random import randint\n",
        "\n",
        "n = randint(1, x_train.shape[0])\n",
        "print('This is a', class_names[y_train[n]])\n",
        "plt.imshow(x_train[n], cmap = 'Greys')"
      ],
      "execution_count": 11,
      "outputs": [
        {
          "output_type": "stream",
          "text": [
            "This is a Sneaker\n"
          ],
          "name": "stdout"
        },
        {
          "output_type": "execute_result",
          "data": {
            "text/plain": [
              "<matplotlib.image.AxesImage at 0x7f4d0f6d6358>"
            ]
          },
          "metadata": {
            "tags": []
          },
          "execution_count": 11
        },
        {
          "output_type": "display_data",
          "data": {
            "image/png": "[encoded data removed]",
            "text/plain": [
              "<Figure size 432x288 with 1 Axes>"
            ]
          },
          "metadata": {
            "tags": []
          }
        }
      ]
    },
    {
      "cell_type": "code",
      "metadata": {
        "id": "z8C1pt5nvYIU",
        "colab_type": "code",
        "colab": {
          "base_uri": "https://localhost:8080/",
          "height": 241
        },
        "outputId": "235e7b45-9761-440d-df49-f541bc1ce842"
      },
      "source": [
        "pick = np.random.choice(60000, 5, replace=False)\n",
        "plt.figure(figsize=(20,10))\n",
        "\n",
        "for i in range(3):\n",
        "    n = pick[i]\n",
        "    ax = plt.subplot(151+i)  #1 row & 5 col & current position is 1\n",
        "    ax.set_xticks([])\n",
        "    ax.set_yticks([])\n",
        "    ax.set_title(class_names[y_train[n]], fontsize=10)\n",
        "    plt.imshow(x_train[n], cmap='Greys')"
      ],
      "execution_count": 13,
      "outputs": [
        {
          "output_type": "display_data",
          "data": {
            "image/png": "[encoded data removed]",
            "text/plain": [
              "<Figure size 1440x720 with 3 Axes>"
            ]
          },
          "metadata": {
            "tags": []
          }
        }
      ]
    },
    {
      "cell_type": "code",
      "metadata": {
        "id": "atsDWs7MvhFG",
        "colab_type": "code",
        "colab": {
          "base_uri": "https://localhost:8080/",
          "height": 359
        },
        "outputId": "ed9d0a74-ce5d-4f88-e336-c860ebd92e19"
      },
      "source": [
        "import pandas as pd\n",
        "dict = {\"class_index\": list(set(y_train)), \"class_name\": class_names}\n",
        "df = pd.DataFrame(dict)\n",
        "df"
      ],
      "execution_count": 14,
      "outputs": [
        {
          "output_type": "execute_result",
          "data": {
            "text/html": [
              "<div>\n",
              "<style scoped>\n",
              "    .dataframe tbody tr th:only-of-type {\n",
              "        vertical-align: middle;\n",
              "    }\n",
              "\n",
              "    .dataframe tbody tr th {\n",
              "        vertical-align: top;\n",
              "    }\n",
              "\n",
              "    .dataframe thead th {\n",
              "        text-align: right;\n",
              "    }\n",
              "</style>\n",
              "<table border=\"1\" class=\"dataframe\">\n",
              "  <thead>\n",
              "    <tr style=\"text-align: right;\">\n",
              "      <th></th>\n",
              "      <th>class_index</th>\n",
              "      <th>class_name</th>\n",
              "    </tr>\n",
              "  </thead>\n",
              "  <tbody>\n",
              "    <tr>\n",
              "      <th>0</th>\n",
              "      <td>0</td>\n",
              "      <td>T-shirt/top</td>\n",
              "    </tr>\n",
              "    <tr>\n",
              "      <th>1</th>\n",
              "      <td>1</td>\n",
              "      <td>Trouser</td>\n",
              "    </tr>\n",
              "    <tr>\n",
              "      <th>2</th>\n",
              "      <td>2</td>\n",
              "      <td>Pullover</td>\n",
              "    </tr>\n",
              "    <tr>\n",
              "      <th>3</th>\n",
              "      <td>3</td>\n",
              "      <td>Dress</td>\n",
              "    </tr>\n",
              "    <tr>\n",
              "      <th>4</th>\n",
              "      <td>4</td>\n",
              "      <td>Coat</td>\n",
              "    </tr>\n",
              "    <tr>\n",
              "      <th>5</th>\n",
              "      <td>5</td>\n",
              "      <td>Sandal</td>\n",
              "    </tr>\n",
              "    <tr>\n",
              "      <th>6</th>\n",
              "      <td>6</td>\n",
              "      <td>Shirt</td>\n",
              "    </tr>\n",
              "    <tr>\n",
              "      <th>7</th>\n",
              "      <td>7</td>\n",
              "      <td>Sneaker</td>\n",
              "    </tr>\n",
              "    <tr>\n",
              "      <th>8</th>\n",
              "      <td>8</td>\n",
              "      <td>Bag</td>\n",
              "    </tr>\n",
              "    <tr>\n",
              "      <th>9</th>\n",
              "      <td>9</td>\n",
              "      <td>Ankle boot</td>\n",
              "    </tr>\n",
              "  </tbody>\n",
              "</table>\n",
              "</div>"
            ],
            "text/plain": [
              "   class_index   class_name\n",
              "0            0  T-shirt/top\n",
              "1            1      Trouser\n",
              "2            2     Pullover\n",
              "3            3        Dress\n",
              "4            4         Coat\n",
              "5            5       Sandal\n",
              "6            6        Shirt\n",
              "7            7      Sneaker\n",
              "8            8          Bag\n",
              "9            9   Ankle boot"
            ]
          },
          "metadata": {
            "tags": []
          },
          "execution_count": 14
        }
      ]
    },
    {
      "cell_type": "code",
      "metadata": {
        "id": "cSsneuf-vo8o",
        "colab_type": "code",
        "colab": {
          "base_uri": "https://localhost:8080/",
          "height": 34
        },
        "outputId": "ac76d982-560b-4291-a6a7-d042fd4a1e77"
      },
      "source": [
        "x_train.shape"
      ],
      "execution_count": 15,
      "outputs": [
        {
          "output_type": "execute_result",
          "data": {
            "text/plain": [
              "(60000, 28, 28)"
            ]
          },
          "metadata": {
            "tags": []
          },
          "execution_count": 15
        }
      ]
    },
    {
      "cell_type": "code",
      "metadata": {
        "id": "j_0Md82AwMhs",
        "colab_type": "code",
        "colab": {
          "base_uri": "https://localhost:8080/",
          "height": 34
        },
        "outputId": "496960a6-4af3-4e6d-e7ea-d98057bf2c6c"
      },
      "source": [
        "y_train.shape"
      ],
      "execution_count": 16,
      "outputs": [
        {
          "output_type": "execute_result",
          "data": {
            "text/plain": [
              "(60000,)"
            ]
          },
          "metadata": {
            "tags": []
          },
          "execution_count": 16
        }
      ]
    },
    {
      "cell_type": "markdown",
      "metadata": {
        "id": "H5Hdr2Lhwi5N",
        "colab_type": "text"
      },
      "source": [
        "# 資料處理"
      ]
    },
    {
      "cell_type": "code",
      "metadata": {
        "id": "OajrQh6hwOIE",
        "colab_type": "code",
        "colab": {}
      },
      "source": [
        "x_train = x_train.reshape(len(x_train), 784)\n",
        "x_test = x_test.reshape(len(x_test),784)\n",
        "x_train = x_train/255\n",
        "x_test = x_test/255"
      ],
      "execution_count": 0,
      "outputs": []
    },
    {
      "cell_type": "code",
      "metadata": {
        "id": "JR6sbLbfwZLx",
        "colab_type": "code",
        "colab": {}
      },
      "source": [
        "from tensorflow.keras.utils import to_categorical"
      ],
      "execution_count": 0,
      "outputs": []
    },
    {
      "cell_type": "code",
      "metadata": {
        "id": "B0iEwXsewd6k",
        "colab_type": "code",
        "colab": {}
      },
      "source": [
        "y_train = to_categorical(y_train, 10)\n",
        "y_test = to_categorical(y_test, 10)"
      ],
      "execution_count": 0,
      "outputs": []
    },
    {
      "cell_type": "markdown",
      "metadata": {
        "id": "F5Gq7M0tw2ti",
        "colab_type": "text"
      },
      "source": [
        "# 打造神經網路"
      ]
    },
    {
      "cell_type": "code",
      "metadata": {
        "id": "0wK3njNjw5-O",
        "colab_type": "code",
        "colab": {}
      },
      "source": [
        "from tensorflow.keras.models import Sequential\n",
        "from tensorflow.keras.layers import Dense\n",
        "from tensorflow.keras.optimizers import SGD"
      ],
      "execution_count": 0,
      "outputs": []
    },
    {
      "cell_type": "code",
      "metadata": {
        "id": "2IByYDfsw9xP",
        "colab_type": "code",
        "colab": {}
      },
      "source": [
        "model = Sequential()"
      ],
      "execution_count": 0,
      "outputs": []
    },
    {
      "cell_type": "code",
      "metadata": {
        "id": "taTXIo19xBYr",
        "colab_type": "code",
        "colab": {}
      },
      "source": [
        "model.add(Dense(100, input_dim=784, activation='relu'))\n",
        "model.add(Dense(100, activation='relu'))\n",
        "model.add(Dense(10, activation='softmax'))"
      ],
      "execution_count": 0,
      "outputs": []
    },
    {
      "cell_type": "markdown",
      "metadata": {
        "id": "X-fG3bXyxMTD",
        "colab_type": "text"
      },
      "source": [
        "# 組裝神經網路"
      ]
    },
    {
      "cell_type": "code",
      "metadata": {
        "id": "LoK79-oRxIQF",
        "colab_type": "code",
        "colab": {}
      },
      "source": [
        "model.compile(loss='mse', optimizer=SGD(lr=0.087), metrics=['accuracy']) "
      ],
      "execution_count": 0,
      "outputs": []
    },
    {
      "cell_type": "code",
      "metadata": {
        "id": "__4xzqjSxTfs",
        "colab_type": "code",
        "colab": {
          "base_uri": "https://localhost:8080/",
          "height": 255
        },
        "outputId": "4e329fc3-9646-4e79-a4a1-d16d6d22f27a"
      },
      "source": [
        "model.summary()"
      ],
      "execution_count": 24,
      "outputs": [
        {
          "output_type": "stream",
          "text": [
            "Model: \"sequential\"\n",
            "_________________________________________________________________\n",
            "Layer (type)                 Output Shape              Param #   \n",
            "=================================================================\n",
            "dense (Dense)                (None, 100)               78500     \n",
            "_________________________________________________________________\n",
            "dense_1 (Dense)              (None, 100)               10100     \n",
            "_________________________________________________________________\n",
            "dense_2 (Dense)              (None, 10)                1010      \n",
            "=================================================================\n",
            "Total params: 89,610\n",
            "Trainable params: 89,610\n",
            "Non-trainable params: 0\n",
            "_________________________________________________________________\n"
          ],
          "name": "stdout"
        }
      ]
    },
    {
      "cell_type": "markdown",
      "metadata": {
        "id": "IKkeG43mxdNR",
        "colab_type": "text"
      },
      "source": [
        "# 訓練"
      ]
    },
    {
      "cell_type": "code",
      "metadata": {
        "id": "-ZBjKFD5xVzu",
        "colab_type": "code",
        "colab": {
          "base_uri": "https://localhost:8080/",
          "height": 1000
        },
        "outputId": "c8c0ffbb-43a0-46cf-c54a-116ec524121a"
      },
      "source": [
        "model.fit(x_train, y_train, batch_size=100, epochs=50)"
      ],
      "execution_count": 26,
      "outputs": [
        {
          "output_type": "stream",
          "text": [
            "Epoch 1/50\n",
            "600/600 [==============================] - 2s 3ms/step - loss: 0.0707 - accuracy: 0.4775\n",
            "Epoch 2/50\n",
            "600/600 [==============================] - 2s 3ms/step - loss: 0.0437 - accuracy: 0.7107\n",
            "Epoch 3/50\n",
            "600/600 [==============================] - 2s 3ms/step - loss: 0.0354 - accuracy: 0.7742\n",
            "Epoch 4/50\n",
            "600/600 [==============================] - 2s 3ms/step - loss: 0.0313 - accuracy: 0.7976\n",
            "Epoch 5/50\n",
            "600/600 [==============================] - 2s 3ms/step - loss: 0.0289 - accuracy: 0.8095\n",
            "Epoch 6/50\n",
            "600/600 [==============================] - 2s 3ms/step - loss: 0.0274 - accuracy: 0.8190\n",
            "Epoch 7/50\n",
            "600/600 [==============================] - 2s 3ms/step - loss: 0.0263 - accuracy: 0.8255\n",
            "Epoch 8/50\n",
            "600/600 [==============================] - 2s 3ms/step - loss: 0.0254 - accuracy: 0.8302\n",
            "Epoch 9/50\n",
            "600/600 [==============================] - 2s 3ms/step - loss: 0.0247 - accuracy: 0.8333\n",
            "Epoch 10/50\n",
            "600/600 [==============================] - 2s 3ms/step - loss: 0.0242 - accuracy: 0.8375\n",
            "Epoch 11/50\n",
            "600/600 [==============================] - 2s 3ms/step - loss: 0.0237 - accuracy: 0.8404\n",
            "Epoch 12/50\n",
            "600/600 [==============================] - 2s 3ms/step - loss: 0.0232 - accuracy: 0.8431\n",
            "Epoch 13/50\n",
            "600/600 [==============================] - 2s 3ms/step - loss: 0.0229 - accuracy: 0.8458\n",
            "Epoch 14/50\n",
            "600/600 [==============================] - 2s 3ms/step - loss: 0.0226 - accuracy: 0.8480\n",
            "Epoch 15/50\n",
            "600/600 [==============================] - 2s 3ms/step - loss: 0.0223 - accuracy: 0.8505\n",
            "Epoch 16/50\n",
            "600/600 [==============================] - 2s 3ms/step - loss: 0.0220 - accuracy: 0.8517\n",
            "Epoch 17/50\n",
            "600/600 [==============================] - 2s 3ms/step - loss: 0.0218 - accuracy: 0.8535\n",
            "Epoch 18/50\n",
            "600/600 [==============================] - 2s 3ms/step - loss: 0.0215 - accuracy: 0.8557\n",
            "Epoch 19/50\n",
            "600/600 [==============================] - 2s 3ms/step - loss: 0.0213 - accuracy: 0.8567\n",
            "Epoch 20/50\n",
            "600/600 [==============================] - 2s 3ms/step - loss: 0.0211 - accuracy: 0.8576\n",
            "Epoch 21/50\n",
            "600/600 [==============================] - 2s 3ms/step - loss: 0.0209 - accuracy: 0.8595\n",
            "Epoch 22/50\n",
            "600/600 [==============================] - 2s 3ms/step - loss: 0.0208 - accuracy: 0.8603\n",
            "Epoch 23/50\n",
            "600/600 [==============================] - 2s 3ms/step - loss: 0.0206 - accuracy: 0.8615\n",
            "Epoch 24/50\n",
            "600/600 [==============================] - 2s 3ms/step - loss: 0.0204 - accuracy: 0.8625\n",
            "Epoch 25/50\n",
            "600/600 [==============================] - 2s 3ms/step - loss: 0.0203 - accuracy: 0.8632\n",
            "Epoch 26/50\n",
            "600/600 [==============================] - 2s 3ms/step - loss: 0.0201 - accuracy: 0.8653\n",
            "Epoch 27/50\n",
            "600/600 [==============================] - 2s 3ms/step - loss: 0.0200 - accuracy: 0.8658\n",
            "Epoch 28/50\n",
            "600/600 [==============================] - 2s 3ms/step - loss: 0.0199 - accuracy: 0.8670\n",
            "Epoch 29/50\n",
            "600/600 [==============================] - 2s 3ms/step - loss: 0.0197 - accuracy: 0.8672\n",
            "Epoch 30/50\n",
            "600/600 [==============================] - 2s 3ms/step - loss: 0.0195 - accuracy: 0.8686\n",
            "Epoch 31/50\n",
            "600/600 [==============================] - 2s 3ms/step - loss: 0.0194 - accuracy: 0.8697\n",
            "Epoch 32/50\n",
            "600/600 [==============================] - 2s 3ms/step - loss: 0.0193 - accuracy: 0.8698\n",
            "Epoch 33/50\n",
            "600/600 [==============================] - 2s 3ms/step - loss: 0.0192 - accuracy: 0.8711\n",
            "Epoch 34/50\n",
            "600/600 [==============================] - 2s 3ms/step - loss: 0.0191 - accuracy: 0.8716\n",
            "Epoch 35/50\n",
            "600/600 [==============================] - 2s 3ms/step - loss: 0.0189 - accuracy: 0.8726\n",
            "Epoch 36/50\n",
            "600/600 [==============================] - 2s 3ms/step - loss: 0.0189 - accuracy: 0.8731\n",
            "Epoch 37/50\n",
            "600/600 [==============================] - 2s 3ms/step - loss: 0.0188 - accuracy: 0.8738\n",
            "Epoch 38/50\n",
            "600/600 [==============================] - 2s 3ms/step - loss: 0.0186 - accuracy: 0.8754\n",
            "Epoch 39/50\n",
            "600/600 [==============================] - 2s 3ms/step - loss: 0.0185 - accuracy: 0.8754\n",
            "Epoch 40/50\n",
            "600/600 [==============================] - 2s 3ms/step - loss: 0.0185 - accuracy: 0.8766\n",
            "Epoch 41/50\n",
            "600/600 [==============================] - 2s 3ms/step - loss: 0.0183 - accuracy: 0.8768\n",
            "Epoch 42/50\n",
            "600/600 [==============================] - 2s 3ms/step - loss: 0.0183 - accuracy: 0.8775\n",
            "Epoch 43/50\n",
            "600/600 [==============================] - 2s 3ms/step - loss: 0.0181 - accuracy: 0.8786\n",
            "Epoch 44/50\n",
            "600/600 [==============================] - 2s 3ms/step - loss: 0.0181 - accuracy: 0.8792\n",
            "Epoch 45/50\n",
            "600/600 [==============================] - 2s 3ms/step - loss: 0.0180 - accuracy: 0.8801\n",
            "Epoch 46/50\n",
            "600/600 [==============================] - 2s 3ms/step - loss: 0.0179 - accuracy: 0.8799\n",
            "Epoch 47/50\n",
            "600/600 [==============================] - 2s 3ms/step - loss: 0.0179 - accuracy: 0.8810\n",
            "Epoch 48/50\n",
            "600/600 [==============================] - 2s 3ms/step - loss: 0.0178 - accuracy: 0.8807\n",
            "Epoch 49/50\n",
            "600/600 [==============================] - 2s 3ms/step - loss: 0.0177 - accuracy: 0.8815\n",
            "Epoch 50/50\n",
            "600/600 [==============================] - 2s 3ms/step - loss: 0.0176 - accuracy: 0.8817\n"
          ],
          "name": "stdout"
        },
        {
          "output_type": "execute_result",
          "data": {
            "text/plain": [
              "<tensorflow.python.keras.callbacks.History at 0x7f4d0926ef60>"
            ]
          },
          "metadata": {
            "tags": []
          },
          "execution_count": 26
        }
      ]
    },
    {
      "cell_type": "markdown",
      "metadata": {
        "id": "eShAyt16yOFf",
        "colab_type": "text"
      },
      "source": [
        "# 訓練成果"
      ]
    },
    {
      "cell_type": "code",
      "metadata": {
        "id": "10uu7Q3vxihS",
        "colab_type": "code",
        "colab": {}
      },
      "source": [
        "result = model.predict_classes(x_test)"
      ],
      "execution_count": 0,
      "outputs": []
    },
    {
      "cell_type": "code",
      "metadata": {
        "id": "sBkvTV_1yTxm",
        "colab_type": "code",
        "colab": {
          "base_uri": "https://localhost:8080/",
          "height": 299
        },
        "outputId": "d02b34d6-1b34-4e7f-e838-73f611bb3edd"
      },
      "source": [
        "n = 2525\n",
        "\n",
        "print('The predicition from the neural network is', class_names[result[n]])\n",
        "plt.imshow(x_test[n].reshape(28,28), cmap='Greys')"
      ],
      "execution_count": 30,
      "outputs": [
        {
          "output_type": "stream",
          "text": [
            "The predicition from the neural network is Ankle boot\n"
          ],
          "name": "stdout"
        },
        {
          "output_type": "execute_result",
          "data": {
            "text/plain": [
              "<matplotlib.image.AxesImage at 0x7f4d063d9208>"
            ]
          },
          "metadata": {
            "tags": []
          },
          "execution_count": 30
        },
        {
          "output_type": "display_data",
          "data": {
            "image/png": "[encoded data removed]",
            "text/plain": [
              "<Figure size 432x288 with 1 Axes>"
            ]
          },
          "metadata": {
            "tags": []
          }
        }
      ]
    },
    {
      "cell_type": "code",
      "metadata": {
        "id": "VIxkhoU_yW0v",
        "colab_type": "code",
        "colab": {}
      },
      "source": [
        ""
      ],
      "execution_count": 0,
      "outputs": []
    }
  ]
}