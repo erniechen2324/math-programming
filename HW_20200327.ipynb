{
  "nbformat": 4,
  "nbformat_minor": 0,
  "metadata": {
    "colab": {
      "name": "HW-20200327.ipynb",
      "provenance": []
    },
    "kernelspec": {
      "name": "python3",
      "display_name": "Python 3"
    },
    "accelerator": "TPU"
  },
  "cells": [
    {
      "cell_type": "code",
      "metadata": {
        "id": "_52Y_B7NuN5h",
        "colab_type": "code",
        "colab": {}
      },
      "source": [
        "import numpy as np\n",
        "import matplotlib.pyplot as plt"
      ],
      "execution_count": 0,
      "outputs": []
    },
    {
      "cell_type": "code",
      "metadata": {
        "id": "cw9pEBrduZws",
        "colab_type": "code",
        "colab": {}
      },
      "source": [
        "import tensorflow as tf"
      ],
      "execution_count": 0,
      "outputs": []
    },
    {
      "cell_type": "code",
      "metadata": {
        "id": "A_dPZajAudDN",
        "colab_type": "code",
        "colab": {}
      },
      "source": [
        "%tensorflow_version 2.x"
      ],
      "execution_count": 0,
      "outputs": []
    },
    {
      "cell_type": "code",
      "metadata": {
        "id": "0dOXtYYRuirt",
        "colab_type": "code",
        "colab": {}
      },
      "source": [
        "from tensorflow.keras.datasets import fashion_mnist"
      ],
      "execution_count": 0,
      "outputs": []
    },
    {
      "cell_type": "code",
      "metadata": {
        "id": "-lDSnO1Uuqxr",
        "colab_type": "code",
        "colab": {
          "base_uri": "https://localhost:8080/",
          "height": 153
        },
        "outputId": "1e2a2b95-4655-4a2c-ce78-9c094a5ccccb"
      },
      "source": [
        "(x_train, y_train), (x_test, y_test) = fashion_mnist.load_data()"
      ],
      "execution_count": 5,
      "outputs": [
        {
          "output_type": "stream",
          "text": [
            "Downloading data from https://storage.googleapis.com/tensorflow/tf-keras-datasets/train-labels-idx1-ubyte.gz\n",
            "32768/29515 [=================================] - 0s 0us/step\n",
            "Downloading data from https://storage.googleapis.com/tensorflow/tf-keras-datasets/train-images-idx3-ubyte.gz\n",
            "26427392/26421880 [==============================] - 0s 0us/step\n",
            "Downloading data from https://storage.googleapis.com/tensorflow/tf-keras-datasets/t10k-labels-idx1-ubyte.gz\n",
            "8192/5148 [===============================================] - 0s 0us/step\n",
            "Downloading data from https://storage.googleapis.com/tensorflow/tf-keras-datasets/t10k-images-idx3-ubyte.gz\n",
            "4423680/4422102 [==============================] - 0s 0us/step\n"
          ],
          "name": "stdout"
        }
      ]
    },
    {
      "cell_type": "code",
      "metadata": {
        "id": "FFvBUM48uvlv",
        "colab_type": "code",
        "colab": {}
      },
      "source": [
        "class_names = ['T-shirt/top', 'Trouser', 'Pullover', 'Dress', 'Coat', 'Sandal', 'Shirt', 'Sneaker', 'Bag', 'Ankle boot']"
      ],
      "execution_count": 0,
      "outputs": []
    },
    {
      "cell_type": "markdown",
      "metadata": {
        "id": "LooiH-uNwt3O",
        "colab_type": "text"
      },
      "source": [
        "# 數據集內容"
      ]
    },
    {
      "cell_type": "code",
      "metadata": {
        "id": "cd1RO6NQu9uc",
        "colab_type": "code",
        "outputId": "ae711f3c-6b51-4bdf-babc-f9fd61e434a9",
        "colab": {
          "base_uri": "https://localhost:8080/",
          "height": 299
        }
      },
      "source": [
        "n = 5678\n",
        "\n",
        "print('This is a(an)',class_names[y_train[n]])\n",
        "plt.imshow(x_train[n], cmap='Greys')"
      ],
      "execution_count": 7,
      "outputs": [
        {
          "output_type": "stream",
          "text": [
            "This is a(an) Bag\n"
          ],
          "name": "stdout"
        },
        {
          "output_type": "execute_result",
          "data": {
            "text/plain": [
              "<matplotlib.image.AxesImage at 0x7ff093a78470>"
            ]
          },
          "metadata": {
            "tags": []
          },
          "execution_count": 7
        },
        {
          "output_type": "display_data",
          "data": {
            "image/png": "[encoded data removed]",
            "text/plain": [
              "<Figure size 432x288 with 1 Axes>"
            ]
          },
          "metadata": {
            "tags": []
          }
        }
      ]
    },
    {
      "cell_type": "code",
      "metadata": {
        "id": "_GIEicVPvElQ",
        "colab_type": "code",
        "outputId": "1943c273-2c1f-4483-c1a2-a759add6d222",
        "colab": {
          "base_uri": "https://localhost:8080/",
          "height": 299
        }
      },
      "source": [
        "from random import randint\n",
        "\n",
        "n = randint(1, x_train.shape[0])\n",
        "print('This is a', class_names[y_train[n]])\n",
        "plt.imshow(x_train[n], cmap = 'Greys')"
      ],
      "execution_count": 8,
      "outputs": [
        {
          "output_type": "stream",
          "text": [
            "This is a Ankle boot\n"
          ],
          "name": "stdout"
        },
        {
          "output_type": "execute_result",
          "data": {
            "text/plain": [
              "<matplotlib.image.AxesImage at 0x7ff0935c6908>"
            ]
          },
          "metadata": {
            "tags": []
          },
          "execution_count": 8
        },
        {
          "output_type": "display_data",
          "data": {
            "image/png": "[encoded data removed]",
            "text/plain": [
              "<Figure size 432x288 with 1 Axes>"
            ]
          },
          "metadata": {
            "tags": []
          }
        }
      ]
    },
    {
      "cell_type": "code",
      "metadata": {
        "id": "z8C1pt5nvYIU",
        "colab_type": "code",
        "outputId": "95d1f2e4-c764-49f9-dbc0-0b6431ce478f",
        "colab": {
          "base_uri": "https://localhost:8080/",
          "height": 241
        }
      },
      "source": [
        "pick = np.random.choice(60000, 5, replace=False)\n",
        "plt.figure(figsize=(20,10))\n",
        "\n",
        "for i in range(3):\n",
        "    n = pick[i]\n",
        "    ax = plt.subplot(151+i)  #1 row & 5 col & current position is 1\n",
        "    ax.set_xticks([])\n",
        "    ax.set_yticks([])\n",
        "    ax.set_title(class_names[y_train[n]], fontsize=10)\n",
        "    plt.imshow(x_train[n], cmap='Greys')"
      ],
      "execution_count": 9,
      "outputs": [
        {
          "output_type": "display_data",
          "data": {
            "image/png": "[encoded data removed]",
            "text/plain": [
              "<Figure size 1440x720 with 3 Axes>"
            ]
          },
          "metadata": {
            "tags": []
          }
        }
      ]
    },
    {
      "cell_type": "code",
      "metadata": {
        "id": "atsDWs7MvhFG",
        "colab_type": "code",
        "outputId": "f01b4791-855c-4c67-f895-8356d1318cd8",
        "colab": {
          "base_uri": "https://localhost:8080/",
          "height": 359
        }
      },
      "source": [
        "import pandas as pd\n",
        "dict = {\"class_index\": list(set(y_train)), \"class_name\": class_names}\n",
        "df = pd.DataFrame(dict)\n",
        "df"
      ],
      "execution_count": 10,
      "outputs": [
        {
          "output_type": "execute_result",
          "data": {
            "text/html": [
              "<div>\n",
              "<style scoped>\n",
              "    .dataframe tbody tr th:only-of-type {\n",
              "        vertical-align: middle;\n",
              "    }\n",
              "\n",
              "    .dataframe tbody tr th {\n",
              "        vertical-align: top;\n",
              "    }\n",
              "\n",
              "    .dataframe thead th {\n",
              "        text-align: right;\n",
              "    }\n",
              "</style>\n",
              "<table border=\"1\" class=\"dataframe\">\n",
              "  <thead>\n",
              "    <tr style=\"text-align: right;\">\n",
              "      <th></th>\n",
              "      <th>class_index</th>\n",
              "      <th>class_name</th>\n",
              "    </tr>\n",
              "  </thead>\n",
              "  <tbody>\n",
              "    <tr>\n",
              "      <th>0</th>\n",
              "      <td>0</td>\n",
              "      <td>T-shirt/top</td>\n",
              "    </tr>\n",
              "    <tr>\n",
              "      <th>1</th>\n",
              "      <td>1</td>\n",
              "      <td>Trouser</td>\n",
              "    </tr>\n",
              "    <tr>\n",
              "      <th>2</th>\n",
              "      <td>2</td>\n",
              "      <td>Pullover</td>\n",
              "    </tr>\n",
              "    <tr>\n",
              "      <th>3</th>\n",
              "      <td>3</td>\n",
              "      <td>Dress</td>\n",
              "    </tr>\n",
              "    <tr>\n",
              "      <th>4</th>\n",
              "      <td>4</td>\n",
              "      <td>Coat</td>\n",
              "    </tr>\n",
              "    <tr>\n",
              "      <th>5</th>\n",
              "      <td>5</td>\n",
              "      <td>Sandal</td>\n",
              "    </tr>\n",
              "    <tr>\n",
              "      <th>6</th>\n",
              "      <td>6</td>\n",
              "      <td>Shirt</td>\n",
              "    </tr>\n",
              "    <tr>\n",
              "      <th>7</th>\n",
              "      <td>7</td>\n",
              "      <td>Sneaker</td>\n",
              "    </tr>\n",
              "    <tr>\n",
              "      <th>8</th>\n",
              "      <td>8</td>\n",
              "      <td>Bag</td>\n",
              "    </tr>\n",
              "    <tr>\n",
              "      <th>9</th>\n",
              "      <td>9</td>\n",
              "      <td>Ankle boot</td>\n",
              "    </tr>\n",
              "  </tbody>\n",
              "</table>\n",
              "</div>"
            ],
            "text/plain": [
              "   class_index   class_name\n",
              "0            0  T-shirt/top\n",
              "1            1      Trouser\n",
              "2            2     Pullover\n",
              "3            3        Dress\n",
              "4            4         Coat\n",
              "5            5       Sandal\n",
              "6            6        Shirt\n",
              "7            7      Sneaker\n",
              "8            8          Bag\n",
              "9            9   Ankle boot"
            ]
          },
          "metadata": {
            "tags": []
          },
          "execution_count": 10
        }
      ]
    },
    {
      "cell_type": "code",
      "metadata": {
        "id": "cSsneuf-vo8o",
        "colab_type": "code",
        "outputId": "e4da1f28-bfa2-4e38-eb1d-f217cfffc6c0",
        "colab": {
          "base_uri": "https://localhost:8080/",
          "height": 34
        }
      },
      "source": [
        "x_train.shape"
      ],
      "execution_count": 11,
      "outputs": [
        {
          "output_type": "execute_result",
          "data": {
            "text/plain": [
              "(60000, 28, 28)"
            ]
          },
          "metadata": {
            "tags": []
          },
          "execution_count": 11
        }
      ]
    },
    {
      "cell_type": "code",
      "metadata": {
        "id": "j_0Md82AwMhs",
        "colab_type": "code",
        "outputId": "1f191a0a-6999-4a3a-90d0-b24d42c02e2b",
        "colab": {
          "base_uri": "https://localhost:8080/",
          "height": 34
        }
      },
      "source": [
        "y_train.shape"
      ],
      "execution_count": 12,
      "outputs": [
        {
          "output_type": "execute_result",
          "data": {
            "text/plain": [
              "(60000,)"
            ]
          },
          "metadata": {
            "tags": []
          },
          "execution_count": 12
        }
      ]
    },
    {
      "cell_type": "markdown",
      "metadata": {
        "id": "H5Hdr2Lhwi5N",
        "colab_type": "text"
      },
      "source": [
        "# 資料處理"
      ]
    },
    {
      "cell_type": "code",
      "metadata": {
        "id": "OajrQh6hwOIE",
        "colab_type": "code",
        "colab": {}
      },
      "source": [
        "x_train = x_train.reshape(len(x_train), 784)\n",
        "x_test = x_test.reshape(len(x_test),784)\n",
        "x_train = x_train/255\n",
        "x_test = x_test/255"
      ],
      "execution_count": 0,
      "outputs": []
    },
    {
      "cell_type": "code",
      "metadata": {
        "id": "JR6sbLbfwZLx",
        "colab_type": "code",
        "colab": {}
      },
      "source": [
        "from tensorflow.keras.utils import to_categorical"
      ],
      "execution_count": 0,
      "outputs": []
    },
    {
      "cell_type": "code",
      "metadata": {
        "id": "B0iEwXsewd6k",
        "colab_type": "code",
        "colab": {}
      },
      "source": [
        "y_train = to_categorical(y_train, 10)\n",
        "y_test = to_categorical(y_test, 10)"
      ],
      "execution_count": 0,
      "outputs": []
    },
    {
      "cell_type": "markdown",
      "metadata": {
        "id": "F5Gq7M0tw2ti",
        "colab_type": "text"
      },
      "source": [
        "# 打造神經網路"
      ]
    },
    {
      "cell_type": "code",
      "metadata": {
        "id": "0wK3njNjw5-O",
        "colab_type": "code",
        "colab": {}
      },
      "source": [
        "from tensorflow.keras.models import Sequential\n",
        "from tensorflow.keras.layers import Dense\n",
        "from tensorflow.keras.optimizers import SGD"
      ],
      "execution_count": 0,
      "outputs": []
    },
    {
      "cell_type": "code",
      "metadata": {
        "id": "2IByYDfsw9xP",
        "colab_type": "code",
        "colab": {}
      },
      "source": [
        "model = Sequential()"
      ],
      "execution_count": 0,
      "outputs": []
    },
    {
      "cell_type": "code",
      "metadata": {
        "id": "taTXIo19xBYr",
        "colab_type": "code",
        "colab": {}
      },
      "source": [
        "model.add(Dense(100, input_dim=784, activation='relu'))\n",
        "model.add(Dense(100, activation='relu'))\n",
        "model.add(Dense(10, activation='softmax'))"
      ],
      "execution_count": 0,
      "outputs": []
    },
    {
      "cell_type": "markdown",
      "metadata": {
        "id": "X-fG3bXyxMTD",
        "colab_type": "text"
      },
      "source": [
        "# 組裝神經網路"
      ]
    },
    {
      "cell_type": "code",
      "metadata": {
        "id": "LoK79-oRxIQF",
        "colab_type": "code",
        "colab": {}
      },
      "source": [
        "model.compile(loss='mse', optimizer=SGD(lr=0.087), metrics=['accuracy']) "
      ],
      "execution_count": 0,
      "outputs": []
    },
    {
      "cell_type": "code",
      "metadata": {
        "id": "__4xzqjSxTfs",
        "colab_type": "code",
        "outputId": "ab09497b-c0b1-43b5-daae-b24beb120aa9",
        "colab": {
          "base_uri": "https://localhost:8080/",
          "height": 255
        }
      },
      "source": [
        "model.summary()"
      ],
      "execution_count": 21,
      "outputs": [
        {
          "output_type": "stream",
          "text": [
            "Model: \"sequential\"\n",
            "_________________________________________________________________\n",
            "Layer (type)                 Output Shape              Param #   \n",
            "=================================================================\n",
            "dense (Dense)                (None, 100)               78500     \n",
            "_________________________________________________________________\n",
            "dense_1 (Dense)              (None, 100)               10100     \n",
            "_________________________________________________________________\n",
            "dense_2 (Dense)              (None, 10)                1010      \n",
            "=================================================================\n",
            "Total params: 89,610\n",
            "Trainable params: 89,610\n",
            "Non-trainable params: 0\n",
            "_________________________________________________________________\n"
          ],
          "name": "stdout"
        }
      ]
    },
    {
      "cell_type": "markdown",
      "metadata": {
        "id": "IKkeG43mxdNR",
        "colab_type": "text"
      },
      "source": [
        "# 訓練"
      ]
    },
    {
      "cell_type": "code",
      "metadata": {
        "id": "-ZBjKFD5xVzu",
        "colab_type": "code",
        "outputId": "127c1ea8-6169-4105-8852-d3c1dbcec4f8",
        "colab": {
          "base_uri": "https://localhost:8080/",
          "height": 1000
        }
      },
      "source": [
        "model.fit(x_train, y_train, batch_size=100, epochs=50)"
      ],
      "execution_count": 22,
      "outputs": [
        {
          "output_type": "stream",
          "text": [
            "Epoch 1/50\n",
            "600/600 [==============================] - 2s 3ms/step - loss: 0.0695 - accuracy: 0.4976\n",
            "Epoch 2/50\n",
            "600/600 [==============================] - 2s 3ms/step - loss: 0.0445 - accuracy: 0.6907\n",
            "Epoch 3/50\n",
            "600/600 [==============================] - 2s 3ms/step - loss: 0.0368 - accuracy: 0.7541\n",
            "Epoch 4/50\n",
            "600/600 [==============================] - 2s 3ms/step - loss: 0.0326 - accuracy: 0.7837\n",
            "Epoch 5/50\n",
            "600/600 [==============================] - 2s 3ms/step - loss: 0.0301 - accuracy: 0.8018\n",
            "Epoch 6/50\n",
            "600/600 [==============================] - 2s 3ms/step - loss: 0.0284 - accuracy: 0.8116\n",
            "Epoch 7/50\n",
            "600/600 [==============================] - 2s 3ms/step - loss: 0.0272 - accuracy: 0.8193\n",
            "Epoch 8/50\n",
            "600/600 [==============================] - 2s 3ms/step - loss: 0.0262 - accuracy: 0.8258\n",
            "Epoch 9/50\n",
            "600/600 [==============================] - 2s 3ms/step - loss: 0.0255 - accuracy: 0.8296\n",
            "Epoch 10/50\n",
            "600/600 [==============================] - 2s 3ms/step - loss: 0.0248 - accuracy: 0.8335\n",
            "Epoch 11/50\n",
            "600/600 [==============================] - 2s 3ms/step - loss: 0.0242 - accuracy: 0.8374\n",
            "Epoch 12/50\n",
            "600/600 [==============================] - 2s 3ms/step - loss: 0.0238 - accuracy: 0.8406\n",
            "Epoch 13/50\n",
            "600/600 [==============================] - 2s 3ms/step - loss: 0.0233 - accuracy: 0.8428\n",
            "Epoch 14/50\n",
            "600/600 [==============================] - 2s 3ms/step - loss: 0.0229 - accuracy: 0.8449\n",
            "Epoch 15/50\n",
            "600/600 [==============================] - 2s 3ms/step - loss: 0.0226 - accuracy: 0.8475\n",
            "Epoch 16/50\n",
            "600/600 [==============================] - 2s 3ms/step - loss: 0.0223 - accuracy: 0.8498\n",
            "Epoch 17/50\n",
            "600/600 [==============================] - 2s 3ms/step - loss: 0.0220 - accuracy: 0.8518\n",
            "Epoch 18/50\n",
            "600/600 [==============================] - 2s 3ms/step - loss: 0.0217 - accuracy: 0.8534\n",
            "Epoch 19/50\n",
            "600/600 [==============================] - 2s 3ms/step - loss: 0.0215 - accuracy: 0.8555\n",
            "Epoch 20/50\n",
            "600/600 [==============================] - 2s 3ms/step - loss: 0.0213 - accuracy: 0.8568\n",
            "Epoch 21/50\n",
            "600/600 [==============================] - 2s 3ms/step - loss: 0.0211 - accuracy: 0.8582\n",
            "Epoch 22/50\n",
            "600/600 [==============================] - 2s 3ms/step - loss: 0.0209 - accuracy: 0.8590\n",
            "Epoch 23/50\n",
            "600/600 [==============================] - 2s 3ms/step - loss: 0.0207 - accuracy: 0.8614\n",
            "Epoch 24/50\n",
            "600/600 [==============================] - 2s 3ms/step - loss: 0.0205 - accuracy: 0.8615\n",
            "Epoch 25/50\n",
            "600/600 [==============================] - 2s 3ms/step - loss: 0.0203 - accuracy: 0.8634\n",
            "Epoch 26/50\n",
            "600/600 [==============================] - 2s 3ms/step - loss: 0.0202 - accuracy: 0.8646\n",
            "Epoch 27/50\n",
            "600/600 [==============================] - 2s 3ms/step - loss: 0.0200 - accuracy: 0.8653\n",
            "Epoch 28/50\n",
            "600/600 [==============================] - 2s 3ms/step - loss: 0.0199 - accuracy: 0.8662\n",
            "Epoch 29/50\n",
            "600/600 [==============================] - 2s 3ms/step - loss: 0.0197 - accuracy: 0.8662\n",
            "Epoch 30/50\n",
            "600/600 [==============================] - 2s 3ms/step - loss: 0.0196 - accuracy: 0.8679\n",
            "Epoch 31/50\n",
            "600/600 [==============================] - 2s 3ms/step - loss: 0.0194 - accuracy: 0.8692\n",
            "Epoch 32/50\n",
            "600/600 [==============================] - 2s 3ms/step - loss: 0.0193 - accuracy: 0.8707\n",
            "Epoch 33/50\n",
            "600/600 [==============================] - 2s 3ms/step - loss: 0.0192 - accuracy: 0.8710\n",
            "Epoch 34/50\n",
            "600/600 [==============================] - 2s 3ms/step - loss: 0.0191 - accuracy: 0.8720\n",
            "Epoch 35/50\n",
            "600/600 [==============================] - 2s 3ms/step - loss: 0.0189 - accuracy: 0.8728\n",
            "Epoch 36/50\n",
            "600/600 [==============================] - 2s 3ms/step - loss: 0.0189 - accuracy: 0.8734\n",
            "Epoch 37/50\n",
            "600/600 [==============================] - 2s 3ms/step - loss: 0.0187 - accuracy: 0.8746\n",
            "Epoch 38/50\n",
            "600/600 [==============================] - 2s 3ms/step - loss: 0.0186 - accuracy: 0.8751\n",
            "Epoch 39/50\n",
            "600/600 [==============================] - 2s 3ms/step - loss: 0.0186 - accuracy: 0.8757\n",
            "Epoch 40/50\n",
            "600/600 [==============================] - 2s 3ms/step - loss: 0.0184 - accuracy: 0.8769\n",
            "Epoch 41/50\n",
            "600/600 [==============================] - 2s 3ms/step - loss: 0.0183 - accuracy: 0.8770\n",
            "Epoch 42/50\n",
            "600/600 [==============================] - 2s 3ms/step - loss: 0.0183 - accuracy: 0.8778\n",
            "Epoch 43/50\n",
            "600/600 [==============================] - 2s 3ms/step - loss: 0.0182 - accuracy: 0.8791\n",
            "Epoch 44/50\n",
            "600/600 [==============================] - 2s 3ms/step - loss: 0.0181 - accuracy: 0.8792\n",
            "Epoch 45/50\n",
            "600/600 [==============================] - 2s 3ms/step - loss: 0.0180 - accuracy: 0.8794\n",
            "Epoch 46/50\n",
            "600/600 [==============================] - 2s 3ms/step - loss: 0.0179 - accuracy: 0.8802\n",
            "Epoch 47/50\n",
            "600/600 [==============================] - 2s 3ms/step - loss: 0.0178 - accuracy: 0.8812\n",
            "Epoch 48/50\n",
            "600/600 [==============================] - 2s 3ms/step - loss: 0.0178 - accuracy: 0.8816\n",
            "Epoch 49/50\n",
            "600/600 [==============================] - 2s 3ms/step - loss: 0.0177 - accuracy: 0.8819\n",
            "Epoch 50/50\n",
            "600/600 [==============================] - 2s 3ms/step - loss: 0.0176 - accuracy: 0.8838\n"
          ],
          "name": "stdout"
        },
        {
          "output_type": "execute_result",
          "data": {
            "text/plain": [
              "<tensorflow.python.keras.callbacks.History at 0x7ff08d0824a8>"
            ]
          },
          "metadata": {
            "tags": []
          },
          "execution_count": 22
        }
      ]
    },
    {
      "cell_type": "markdown",
      "metadata": {
        "id": "eShAyt16yOFf",
        "colab_type": "text"
      },
      "source": [
        "# 訓練成果"
      ]
    },
    {
      "cell_type": "code",
      "metadata": {
        "id": "10uu7Q3vxihS",
        "colab_type": "code",
        "colab": {
          "base_uri": "https://localhost:8080/",
          "height": 88
        },
        "outputId": "e30aa6fa-d8ec-4143-dcb8-0404cc49fdfd"
      },
      "source": [
        "result = model.predict_classes(x_test)"
      ],
      "execution_count": 23,
      "outputs": [
        {
          "output_type": "stream",
          "text": [
            "WARNING:tensorflow:From <ipython-input-23-63af5bb2f9b6>:1: Sequential.predict_classes (from tensorflow.python.keras.engine.sequential) is deprecated and will be removed after 2021-01-01.\n",
            "Instructions for updating:\n",
            "Please use instead:* `np.argmax(model.predict(x), axis=-1)`,   if your model does multi-class classification   (e.g. if it uses a `softmax` last-layer activation).* `(model.predict(x) > 0.5).astype(\"int32\")`,   if your model does binary classification   (e.g. if it uses a `sigmoid` last-layer activation).\n"
          ],
          "name": "stdout"
        }
      ]
    },
    {
      "cell_type": "code",
      "metadata": {
        "id": "sBkvTV_1yTxm",
        "colab_type": "code",
        "outputId": "6f9aa0b8-58fc-441e-d7cd-a70ad2d48a88",
        "colab": {
          "base_uri": "https://localhost:8080/",
          "height": 299
        }
      },
      "source": [
        "n = 2525\n",
        "\n",
        "print('The predicition from the neural network is', class_names[result[n]])\n",
        "plt.imshow(x_test[n].reshape(28,28), cmap='Greys')"
      ],
      "execution_count": 24,
      "outputs": [
        {
          "output_type": "stream",
          "text": [
            "The predicition from the neural network is Ankle boot\n"
          ],
          "name": "stdout"
        },
        {
          "output_type": "execute_result",
          "data": {
            "text/plain": [
              "<matplotlib.image.AxesImage at 0x7ff08a262828>"
            ]
          },
          "metadata": {
            "tags": []
          },
          "execution_count": 24
        },
        {
          "output_type": "display_data",
          "data": {
            "image/png": "[encoded data removed]",
            "text/plain": [
              "<Figure size 432x288 with 1 Axes>"
            ]
          },
          "metadata": {
            "tags": []
          }
        }
      ]
    },
    {
      "cell_type": "markdown",
      "metadata": {
        "id": "IjUS6hX3C2so",
        "colab_type": "text"
      },
      "source": [
        "## **改變learning rate**"
      ]
    },
    {
      "cell_type": "code",
      "metadata": {
        "id": "VIxkhoU_yW0v",
        "colab_type": "code",
        "colab": {}
      },
      "source": [
        "model.compile(loss='mse', optimizer=SGD(lr=0.01), metrics=['accuracy'])"
      ],
      "execution_count": 0,
      "outputs": []
    },
    {
      "cell_type": "code",
      "metadata": {
        "id": "mYwXzxf4DtBu",
        "colab_type": "code",
        "colab": {
          "base_uri": "https://localhost:8080/",
          "height": 255
        },
        "outputId": "a9fc4a5a-ee3b-453f-c09c-8e64d5e9162a"
      },
      "source": [
        "model.summary()"
      ],
      "execution_count": 27,
      "outputs": [
        {
          "output_type": "stream",
          "text": [
            "Model: \"sequential\"\n",
            "_________________________________________________________________\n",
            "Layer (type)                 Output Shape              Param #   \n",
            "=================================================================\n",
            "dense (Dense)                (None, 100)               78500     \n",
            "_________________________________________________________________\n",
            "dense_1 (Dense)              (None, 100)               10100     \n",
            "_________________________________________________________________\n",
            "dense_2 (Dense)              (None, 10)                1010      \n",
            "=================================================================\n",
            "Total params: 89,610\n",
            "Trainable params: 89,610\n",
            "Non-trainable params: 0\n",
            "_________________________________________________________________\n"
          ],
          "name": "stdout"
        }
      ]
    },
    {
      "cell_type": "code",
      "metadata": {
        "id": "YajEb6yxDBX-",
        "colab_type": "code",
        "colab": {
          "base_uri": "https://localhost:8080/",
          "height": 1000
        },
        "outputId": "705f6da7-2baf-411b-d3f3-38a7bfa12c11"
      },
      "source": [
        "model.fit(x_train, y_train, batch_size=100, epochs=50)"
      ],
      "execution_count": 26,
      "outputs": [
        {
          "output_type": "stream",
          "text": [
            "Epoch 1/50\n",
            "600/600 [==============================] - 2s 3ms/step - loss: 0.0173 - accuracy: 0.8853\n",
            "Epoch 2/50\n",
            "600/600 [==============================] - 2s 3ms/step - loss: 0.0173 - accuracy: 0.8856\n",
            "Epoch 3/50\n",
            "600/600 [==============================] - 2s 3ms/step - loss: 0.0173 - accuracy: 0.8856\n",
            "Epoch 4/50\n",
            "600/600 [==============================] - 2s 3ms/step - loss: 0.0173 - accuracy: 0.8852\n",
            "Epoch 5/50\n",
            "600/600 [==============================] - 2s 3ms/step - loss: 0.0172 - accuracy: 0.8856\n",
            "Epoch 6/50\n",
            "600/600 [==============================] - 2s 3ms/step - loss: 0.0172 - accuracy: 0.8859\n",
            "Epoch 7/50\n",
            "600/600 [==============================] - 2s 3ms/step - loss: 0.0172 - accuracy: 0.8860\n",
            "Epoch 8/50\n",
            "600/600 [==============================] - 2s 3ms/step - loss: 0.0172 - accuracy: 0.8857\n",
            "Epoch 9/50\n",
            "600/600 [==============================] - 2s 3ms/step - loss: 0.0172 - accuracy: 0.8860\n",
            "Epoch 10/50\n",
            "600/600 [==============================] - 2s 3ms/step - loss: 0.0172 - accuracy: 0.8859\n",
            "Epoch 11/50\n",
            "600/600 [==============================] - 2s 3ms/step - loss: 0.0172 - accuracy: 0.8863\n",
            "Epoch 12/50\n",
            "600/600 [==============================] - 2s 3ms/step - loss: 0.0172 - accuracy: 0.8856\n",
            "Epoch 13/50\n",
            "600/600 [==============================] - 2s 3ms/step - loss: 0.0172 - accuracy: 0.8860\n",
            "Epoch 14/50\n",
            "600/600 [==============================] - 2s 3ms/step - loss: 0.0172 - accuracy: 0.8863\n",
            "Epoch 15/50\n",
            "600/600 [==============================] - 2s 3ms/step - loss: 0.0172 - accuracy: 0.8863\n",
            "Epoch 16/50\n",
            "600/600 [==============================] - 2s 3ms/step - loss: 0.0171 - accuracy: 0.8866\n",
            "Epoch 17/50\n",
            "600/600 [==============================] - 2s 3ms/step - loss: 0.0171 - accuracy: 0.8866\n",
            "Epoch 18/50\n",
            "600/600 [==============================] - 2s 3ms/step - loss: 0.0171 - accuracy: 0.8864\n",
            "Epoch 19/50\n",
            "600/600 [==============================] - 2s 3ms/step - loss: 0.0171 - accuracy: 0.8872\n",
            "Epoch 20/50\n",
            "600/600 [==============================] - 2s 3ms/step - loss: 0.0171 - accuracy: 0.8867\n",
            "Epoch 21/50\n",
            "600/600 [==============================] - 2s 3ms/step - loss: 0.0171 - accuracy: 0.8872\n",
            "Epoch 22/50\n",
            "600/600 [==============================] - 2s 3ms/step - loss: 0.0171 - accuracy: 0.8871\n",
            "Epoch 23/50\n",
            "600/600 [==============================] - 2s 3ms/step - loss: 0.0171 - accuracy: 0.8869\n",
            "Epoch 24/50\n",
            "600/600 [==============================] - 2s 3ms/step - loss: 0.0171 - accuracy: 0.8867\n",
            "Epoch 25/50\n",
            "600/600 [==============================] - 2s 3ms/step - loss: 0.0171 - accuracy: 0.8870\n",
            "Epoch 26/50\n",
            "600/600 [==============================] - 2s 3ms/step - loss: 0.0171 - accuracy: 0.8873\n",
            "Epoch 27/50\n",
            "600/600 [==============================] - 2s 3ms/step - loss: 0.0171 - accuracy: 0.8872\n",
            "Epoch 28/50\n",
            "600/600 [==============================] - 2s 3ms/step - loss: 0.0170 - accuracy: 0.8876\n",
            "Epoch 29/50\n",
            "600/600 [==============================] - 2s 3ms/step - loss: 0.0170 - accuracy: 0.8872\n",
            "Epoch 30/50\n",
            "600/600 [==============================] - 2s 3ms/step - loss: 0.0170 - accuracy: 0.8875\n",
            "Epoch 31/50\n",
            "600/600 [==============================] - 2s 3ms/step - loss: 0.0170 - accuracy: 0.8871\n",
            "Epoch 32/50\n",
            "600/600 [==============================] - 2s 3ms/step - loss: 0.0170 - accuracy: 0.8877\n",
            "Epoch 33/50\n",
            "600/600 [==============================] - 2s 3ms/step - loss: 0.0170 - accuracy: 0.8875\n",
            "Epoch 34/50\n",
            "600/600 [==============================] - 2s 3ms/step - loss: 0.0170 - accuracy: 0.8876\n",
            "Epoch 35/50\n",
            "600/600 [==============================] - 2s 3ms/step - loss: 0.0170 - accuracy: 0.8878\n",
            "Epoch 36/50\n",
            "600/600 [==============================] - 2s 3ms/step - loss: 0.0170 - accuracy: 0.8884\n",
            "Epoch 37/50\n",
            "600/600 [==============================] - 2s 3ms/step - loss: 0.0170 - accuracy: 0.8877\n",
            "Epoch 38/50\n",
            "600/600 [==============================] - 2s 3ms/step - loss: 0.0170 - accuracy: 0.8882\n",
            "Epoch 39/50\n",
            "600/600 [==============================] - 2s 3ms/step - loss: 0.0170 - accuracy: 0.8879\n",
            "Epoch 40/50\n",
            "600/600 [==============================] - 2s 3ms/step - loss: 0.0169 - accuracy: 0.8885\n",
            "Epoch 41/50\n",
            "600/600 [==============================] - 2s 3ms/step - loss: 0.0169 - accuracy: 0.8879\n",
            "Epoch 42/50\n",
            "600/600 [==============================] - 2s 3ms/step - loss: 0.0169 - accuracy: 0.8881\n",
            "Epoch 43/50\n",
            "600/600 [==============================] - 2s 3ms/step - loss: 0.0169 - accuracy: 0.8885\n",
            "Epoch 44/50\n",
            "600/600 [==============================] - 2s 3ms/step - loss: 0.0169 - accuracy: 0.8887\n",
            "Epoch 45/50\n",
            "600/600 [==============================] - 2s 3ms/step - loss: 0.0169 - accuracy: 0.8883\n",
            "Epoch 46/50\n",
            "600/600 [==============================] - 2s 3ms/step - loss: 0.0169 - accuracy: 0.8882\n",
            "Epoch 47/50\n",
            "600/600 [==============================] - 2s 3ms/step - loss: 0.0169 - accuracy: 0.8882\n",
            "Epoch 48/50\n",
            "600/600 [==============================] - 2s 3ms/step - loss: 0.0169 - accuracy: 0.8883\n",
            "Epoch 49/50\n",
            "600/600 [==============================] - 2s 3ms/step - loss: 0.0169 - accuracy: 0.8885\n",
            "Epoch 50/50\n",
            "600/600 [==============================] - 2s 3ms/step - loss: 0.0169 - accuracy: 0.8885\n"
          ],
          "name": "stdout"
        },
        {
          "output_type": "execute_result",
          "data": {
            "text/plain": [
              "<tensorflow.python.keras.callbacks.History at 0x7ff08a225668>"
            ]
          },
          "metadata": {
            "tags": []
          },
          "execution_count": 26
        }
      ]
    },
    {
      "cell_type": "code",
      "metadata": {
        "id": "c8LWZmXQDGwo",
        "colab_type": "code",
        "colab": {}
      },
      "source": [
        "result = model.predict_classes(x_test)"
      ],
      "execution_count": 0,
      "outputs": []
    },
    {
      "cell_type": "code",
      "metadata": {
        "id": "6mQjxsRfD0Vs",
        "colab_type": "code",
        "colab": {
          "base_uri": "https://localhost:8080/",
          "height": 299
        },
        "outputId": "7bb655f4-9f25-455d-a697-8febddafbeb1"
      },
      "source": [
        "n = 2424\n",
        "\n",
        "print('The predicition from the neural network is', class_names[result[n]])\n",
        "plt.imshow(x_test[n].reshape(28,28), cmap='Greys')"
      ],
      "execution_count": 29,
      "outputs": [
        {
          "output_type": "stream",
          "text": [
            "The predicition from the neural network is Trouser\n"
          ],
          "name": "stdout"
        },
        {
          "output_type": "execute_result",
          "data": {
            "text/plain": [
              "<matplotlib.image.AxesImage at 0x7ff08992f940>"
            ]
          },
          "metadata": {
            "tags": []
          },
          "execution_count": 29
        },
        {
          "output_type": "display_data",
          "data": {
            "image/png": "[encoded data removed]",
            "text/plain": [
              "<Figure size 432x288 with 1 Axes>"
            ]
          },
          "metadata": {
            "tags": []
          }
        }
      ]
    },
    {
      "cell_type": "code",
      "metadata": {
        "id": "GAzwpTQ5D5dz",
        "colab_type": "code",
        "colab": {}
      },
      "source": [
        ""
      ],
      "execution_count": 0,
      "outputs": []
    }
  ]
}