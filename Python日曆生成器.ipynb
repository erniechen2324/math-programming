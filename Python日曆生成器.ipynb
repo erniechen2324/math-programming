{
 "cells": [
  {
   "cell_type": "code",
   "execution_count": 4,
   "metadata": {},
   "outputs": [
    {
     "name": "stdout",
     "output_type": "stream",
     "text": [
      "which year?2018\n",
      "which month?10\n",
      "('    October 2018\\n'\n",
      " 'Mo Tu We Th Fr Sa Su\\n'\n",
      " ' 1  2  3  4  5  6  7\\n'\n",
      " ' 8  9 10 11 12 13 14\\n'\n",
      " '15 16 17 18 19 20 21\\n'\n",
      " '22 23 24 25 26 27 28\\n'\n",
      " '29 30 31\\n')\n"
     ]
    }
   ],
   "source": [
    "import calendar\n",
    "from pprint import *\n",
    "\n",
    "year1 = int(input('which year?'))\n",
    "month1 = int(input('which month?'))\n",
    "pprint(calendar.month(year1, month1))"
   ]
  },
  {
   "cell_type": "code",
   "execution_count": null,
   "metadata": {},
   "outputs": [],
   "source": []
  }
 ],
 "metadata": {
  "kernelspec": {
   "display_name": "Python 3",
   "language": "python",
   "name": "python3"
  },
  "language_info": {
   "codemirror_mode": {
    "name": "ipython",
    "version": 3
   },
   "file_extension": ".py",
   "mimetype": "text/x-python",
   "name": "python",
   "nbconvert_exporter": "python",
   "pygments_lexer": "ipython3",
   "version": "3.7.1"
  }
 },
 "nbformat": 4,
 "nbformat_minor": 2
}
