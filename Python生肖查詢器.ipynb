{
 "cells": [
  {
   "cell_type": "code",
   "execution_count": 1,
   "metadata": {},
   "outputs": [],
   "source": [
    "import numpy as np\n",
    "import pandas as pd\n",
    "import matplotlib as plt"
   ]
  },
  {
   "cell_type": "code",
   "execution_count": 7,
   "metadata": {},
   "outputs": [],
   "source": [
    "def chinese_zodiac(year):  \n",
    "    zodiac_map = {  \n",
    "        '鼠':1900,  \n",
    "        '牛':1901,  \n",
    "        '虎':1902,  \n",
    "        '兔':1903,  \n",
    "        '龍':1904,  \n",
    "        '蛇':1905,  \n",
    "        '馬':1906,  \n",
    "        '羊':1907,  \n",
    "        '猴':1908,  \n",
    "        '雞':1909,  \n",
    "        '狗':1910,  \n",
    "        '豬':1911}  \n",
    "  \n",
    "    for k, v in zodiac_map.items():  \n",
    "        if (year % v % 12) == 0:  \n",
    "            return k  "
   ]
  },
  {
   "cell_type": "code",
   "execution_count": 8,
   "metadata": {},
   "outputs": [
    {
     "data": {
      "text/plain": [
       "'鼠'"
      ]
     },
     "execution_count": 8,
     "metadata": {},
     "output_type": "execute_result"
    }
   ],
   "source": [
    "chinese_zodiac(1996)"
   ]
  },
  {
   "cell_type": "code",
   "execution_count": null,
   "metadata": {},
   "outputs": [],
   "source": []
  }
 ],
 "metadata": {
  "kernelspec": {
   "display_name": "Python 3",
   "language": "python",
   "name": "python3"
  },
  "language_info": {
   "codemirror_mode": {
    "name": "ipython",
    "version": 3
   },
   "file_extension": ".py",
   "mimetype": "text/x-python",
   "name": "python",
   "nbconvert_exporter": "python",
   "pygments_lexer": "ipython3",
   "version": "3.7.1"
  }
 },
 "nbformat": 4,
 "nbformat_minor": 2
}
