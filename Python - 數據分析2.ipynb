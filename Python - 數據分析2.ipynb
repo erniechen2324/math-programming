{
 "cells": [
  {
   "cell_type": "code",
   "execution_count": 1,
   "metadata": {},
   "outputs": [],
   "source": [
    "import numpy as np\n",
    "import pandas as pd\n",
    "import matplotlib.pyplot as plt"
   ]
  },
  {
   "cell_type": "markdown",
   "metadata": {},
   "source": [
    "# 台積電股票分析"
   ]
  },
  {
   "cell_type": "code",
   "execution_count": 7,
   "metadata": {},
   "outputs": [],
   "source": [
    "df_2330 = pd.read_csv('/Users/erniechen/Desktop/2330.TW.csv', header = 0, sep = ',')"
   ]
  },
  {
   "cell_type": "code",
   "execution_count": 8,
   "metadata": {},
   "outputs": [
    {
     "data": {
      "text/html": [
       "<div>\n",
       "<style scoped>\n",
       "    .dataframe tbody tr th:only-of-type {\n",
       "        vertical-align: middle;\n",
       "    }\n",
       "\n",
       "    .dataframe tbody tr th {\n",
       "        vertical-align: top;\n",
       "    }\n",
       "\n",
       "    .dataframe thead th {\n",
       "        text-align: right;\n",
       "    }\n",
       "</style>\n",
       "<table border=\"1\" class=\"dataframe\">\n",
       "  <thead>\n",
       "    <tr style=\"text-align: right;\">\n",
       "      <th></th>\n",
       "      <th>Date</th>\n",
       "      <th>Open</th>\n",
       "      <th>High</th>\n",
       "      <th>Low</th>\n",
       "      <th>Close</th>\n",
       "      <th>Adj Close</th>\n",
       "      <th>Volume</th>\n",
       "    </tr>\n",
       "  </thead>\n",
       "  <tbody>\n",
       "    <tr>\n",
       "      <th>0</th>\n",
       "      <td>2018/11/12</td>\n",
       "      <td>230.0</td>\n",
       "      <td>234.5</td>\n",
       "      <td>230.0</td>\n",
       "      <td>231.5</td>\n",
       "      <td>222.369019</td>\n",
       "      <td>23228445</td>\n",
       "    </tr>\n",
       "    <tr>\n",
       "      <th>1</th>\n",
       "      <td>2018/11/13</td>\n",
       "      <td>224.5</td>\n",
       "      <td>228.0</td>\n",
       "      <td>224.5</td>\n",
       "      <td>227.5</td>\n",
       "      <td>218.526794</td>\n",
       "      <td>36104127</td>\n",
       "    </tr>\n",
       "    <tr>\n",
       "      <th>2</th>\n",
       "      <td>2018/11/14</td>\n",
       "      <td>230.0</td>\n",
       "      <td>231.0</td>\n",
       "      <td>228.5</td>\n",
       "      <td>228.5</td>\n",
       "      <td>219.487350</td>\n",
       "      <td>20028279</td>\n",
       "    </tr>\n",
       "    <tr>\n",
       "      <th>3</th>\n",
       "      <td>2018/11/15</td>\n",
       "      <td>229.5</td>\n",
       "      <td>232.0</td>\n",
       "      <td>228.5</td>\n",
       "      <td>231.0</td>\n",
       "      <td>221.888733</td>\n",
       "      <td>22072228</td>\n",
       "    </tr>\n",
       "    <tr>\n",
       "      <th>4</th>\n",
       "      <td>2018/11/16</td>\n",
       "      <td>229.0</td>\n",
       "      <td>229.0</td>\n",
       "      <td>225.0</td>\n",
       "      <td>226.0</td>\n",
       "      <td>217.085953</td>\n",
       "      <td>46738909</td>\n",
       "    </tr>\n",
       "  </tbody>\n",
       "</table>\n",
       "</div>"
      ],
      "text/plain": [
       "         Date   Open   High    Low  Close   Adj Close    Volume\n",
       "0  2018/11/12  230.0  234.5  230.0  231.5  222.369019  23228445\n",
       "1  2018/11/13  224.5  228.0  224.5  227.5  218.526794  36104127\n",
       "2  2018/11/14  230.0  231.0  228.5  228.5  219.487350  20028279\n",
       "3  2018/11/15  229.5  232.0  228.5  231.0  221.888733  22072228\n",
       "4  2018/11/16  229.0  229.0  225.0  226.0  217.085953  46738909"
      ]
     },
     "execution_count": 8,
     "metadata": {},
     "output_type": "execute_result"
    }
   ],
   "source": [
    "df_2330.head()"
   ]
  },
  {
   "cell_type": "code",
   "execution_count": 9,
   "metadata": {},
   "outputs": [
    {
     "data": {
      "text/plain": [
       "247.52708333333334"
      ]
     },
     "execution_count": 9,
     "metadata": {},
     "output_type": "execute_result"
    }
   ],
   "source": [
    "df_2330['Close'].mean()"
   ]
  },
  {
   "cell_type": "code",
   "execution_count": 10,
   "metadata": {},
   "outputs": [
    {
     "data": {
      "text/plain": [
       "22.51313646814219"
      ]
     },
     "execution_count": 10,
     "metadata": {},
     "output_type": "execute_result"
    }
   ],
   "source": [
    "df_2330['Close'].std()"
   ]
  },
  {
   "cell_type": "code",
   "execution_count": 11,
   "metadata": {},
   "outputs": [
    {
     "data": {
      "text/html": [
       "<div>\n",
       "<style scoped>\n",
       "    .dataframe tbody tr th:only-of-type {\n",
       "        vertical-align: middle;\n",
       "    }\n",
       "\n",
       "    .dataframe tbody tr th {\n",
       "        vertical-align: top;\n",
       "    }\n",
       "\n",
       "    .dataframe thead th {\n",
       "        text-align: right;\n",
       "    }\n",
       "</style>\n",
       "<table border=\"1\" class=\"dataframe\">\n",
       "  <thead>\n",
       "    <tr style=\"text-align: right;\">\n",
       "      <th></th>\n",
       "      <th>Open</th>\n",
       "      <th>High</th>\n",
       "      <th>Low</th>\n",
       "      <th>Close</th>\n",
       "      <th>Adj Close</th>\n",
       "      <th>Volume</th>\n",
       "    </tr>\n",
       "  </thead>\n",
       "  <tbody>\n",
       "    <tr>\n",
       "      <th>count</th>\n",
       "      <td>240.000000</td>\n",
       "      <td>240.000000</td>\n",
       "      <td>240.000000</td>\n",
       "      <td>240.000000</td>\n",
       "      <td>240.000000</td>\n",
       "      <td>2.400000e+02</td>\n",
       "    </tr>\n",
       "    <tr>\n",
       "      <th>mean</th>\n",
       "      <td>247.464583</td>\n",
       "      <td>249.047917</td>\n",
       "      <td>245.654167</td>\n",
       "      <td>247.527083</td>\n",
       "      <td>241.443927</td>\n",
       "      <td>3.140810e+07</td>\n",
       "    </tr>\n",
       "    <tr>\n",
       "      <th>std</th>\n",
       "      <td>22.699460</td>\n",
       "      <td>22.469105</td>\n",
       "      <td>22.498191</td>\n",
       "      <td>22.513136</td>\n",
       "      <td>25.390542</td>\n",
       "      <td>1.224007e+07</td>\n",
       "    </tr>\n",
       "    <tr>\n",
       "      <th>min</th>\n",
       "      <td>211.500000</td>\n",
       "      <td>211.500000</td>\n",
       "      <td>206.500000</td>\n",
       "      <td>208.000000</td>\n",
       "      <td>199.795929</td>\n",
       "      <td>1.309321e+07</td>\n",
       "    </tr>\n",
       "    <tr>\n",
       "      <th>25%</th>\n",
       "      <td>230.000000</td>\n",
       "      <td>231.500000</td>\n",
       "      <td>229.000000</td>\n",
       "      <td>230.000000</td>\n",
       "      <td>220.928177</td>\n",
       "      <td>2.308486e+07</td>\n",
       "    </tr>\n",
       "    <tr>\n",
       "      <th>50%</th>\n",
       "      <td>244.250000</td>\n",
       "      <td>246.500000</td>\n",
       "      <td>241.750000</td>\n",
       "      <td>245.500000</td>\n",
       "      <td>238.698502</td>\n",
       "      <td>2.909021e+07</td>\n",
       "    </tr>\n",
       "    <tr>\n",
       "      <th>75%</th>\n",
       "      <td>260.000000</td>\n",
       "      <td>262.125000</td>\n",
       "      <td>259.000000</td>\n",
       "      <td>260.000000</td>\n",
       "      <td>254.555439</td>\n",
       "      <td>3.602662e+07</td>\n",
       "    </tr>\n",
       "    <tr>\n",
       "      <th>max</th>\n",
       "      <td>310.000000</td>\n",
       "      <td>311.500000</td>\n",
       "      <td>308.000000</td>\n",
       "      <td>311.000000</td>\n",
       "      <td>311.000000</td>\n",
       "      <td>9.524003e+07</td>\n",
       "    </tr>\n",
       "  </tbody>\n",
       "</table>\n",
       "</div>"
      ],
      "text/plain": [
       "             Open        High         Low       Close   Adj Close  \\\n",
       "count  240.000000  240.000000  240.000000  240.000000  240.000000   \n",
       "mean   247.464583  249.047917  245.654167  247.527083  241.443927   \n",
       "std     22.699460   22.469105   22.498191   22.513136   25.390542   \n",
       "min    211.500000  211.500000  206.500000  208.000000  199.795929   \n",
       "25%    230.000000  231.500000  229.000000  230.000000  220.928177   \n",
       "50%    244.250000  246.500000  241.750000  245.500000  238.698502   \n",
       "75%    260.000000  262.125000  259.000000  260.000000  254.555439   \n",
       "max    310.000000  311.500000  308.000000  311.000000  311.000000   \n",
       "\n",
       "             Volume  \n",
       "count  2.400000e+02  \n",
       "mean   3.140810e+07  \n",
       "std    1.224007e+07  \n",
       "min    1.309321e+07  \n",
       "25%    2.308486e+07  \n",
       "50%    2.909021e+07  \n",
       "75%    3.602662e+07  \n",
       "max    9.524003e+07  "
      ]
     },
     "execution_count": 11,
     "metadata": {},
     "output_type": "execute_result"
    }
   ],
   "source": [
    "df_2330.describe()"
   ]
  },
  {
   "cell_type": "code",
   "execution_count": 12,
   "metadata": {},
   "outputs": [
    {
     "data": {
      "text/plain": [
       "<matplotlib.axes._subplots.AxesSubplot at 0x11ed98320>"
      ]
     },
     "execution_count": 12,
     "metadata": {},
     "output_type": "execute_result"
    },
    {
     "data": {
      "image/png": "[encoded data removed]",
      "text/plain": [
       "<Figure size 432x288 with 1 Axes>"
      ]
     },
     "metadata": {
      "needs_background": "light"
     },
     "output_type": "display_data"
    }
   ],
   "source": [
    "df_2330['Close'].plot()"
   ]
  },
  {
   "cell_type": "code",
   "execution_count": null,
   "metadata": {},
   "outputs": [],
   "source": []
  }
 ],
 "metadata": {
  "kernelspec": {
   "display_name": "Python 3",
   "language": "python",
   "name": "python3"
  },
  "language_info": {
   "codemirror_mode": {
    "name": "ipython",
    "version": 3
   },
   "file_extension": ".py",
   "mimetype": "text/x-python",
   "name": "python",
   "nbconvert_exporter": "python",
   "pygments_lexer": "ipython3",
   "version": "3.7.1"
  }
 },
 "nbformat": 4,
 "nbformat_minor": 2
}
