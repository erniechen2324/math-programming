{
 "cells": [
  {
   "cell_type": "code",
   "execution_count": 1,
   "metadata": {},
   "outputs": [],
   "source": [
    "import numpy as np\n",
    "import pandas as pd\n",
    "import matplotlib.pyplot as plt"
   ]
  },
  {
   "cell_type": "markdown",
   "metadata": {},
   "source": [
    "# 蒙地卡羅模擬定價"
   ]
  },
  {
   "cell_type": "code",
   "execution_count": 3,
   "metadata": {},
   "outputs": [],
   "source": [
    "def MCVal(S, K, r, q, sigma, T, nsim):\n",
    "    import numpy as np\n",
    "    from scipy import stats\n",
    "    from scipy.stats import norm\n",
    "    import random as rdm\n",
    "    \n",
    "    drift = (r - q - 0.5 * sigma ** 2) * T\n",
    "    volatility = sigma * np.sqrt(T)\n",
    "    summ = 0\n",
    "    \n",
    "    i=0\n",
    "    for i in range(nsim+1):\n",
    "        a = norm.ppf(rdm.random()) #inverse of normal distribution of numbers between 0 and 1 excluded\n",
    "        b = S * np.exp(drift + volatility * a)\n",
    "        summ = summ + np.maximum((b - K), 0)\n",
    "    \n",
    "    return np.exp(-r * T) * summ / nsim"
   ]
  },
  {
   "cell_type": "code",
   "execution_count": 4,
   "metadata": {},
   "outputs": [],
   "source": [
    "call_1 = MCVal(20, 10, 0.05, 0.01, 0.5, 1, 2)"
   ]
  },
  {
   "cell_type": "code",
   "execution_count": 5,
   "metadata": {},
   "outputs": [
    {
     "data": {
      "text/plain": [
       "23.264179944250078"
      ]
     },
     "execution_count": 5,
     "metadata": {},
     "output_type": "execute_result"
    }
   ],
   "source": [
    "call_1"
   ]
  },
  {
   "cell_type": "code",
   "execution_count": null,
   "metadata": {},
   "outputs": [],
   "source": []
  }
 ],
 "metadata": {
  "kernelspec": {
   "display_name": "Python 3",
   "language": "python",
   "name": "python3"
  },
  "language_info": {
   "codemirror_mode": {
    "name": "ipython",
    "version": 3
   },
   "file_extension": ".py",
   "mimetype": "text/x-python",
   "name": "python",
   "nbconvert_exporter": "python",
   "pygments_lexer": "ipython3",
   "version": "3.7.1"
  }
 },
 "nbformat": 4,
 "nbformat_minor": 2
}
